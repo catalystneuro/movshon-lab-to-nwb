{
 "cells": [
  {
   "cell_type": "code",
   "execution_count": 1,
   "metadata": {},
   "outputs": [],
   "source": [
    "%load_ext autoreload\n",
    "%autoreload 2\n",
    "%config Completer.use_jedi = False"
   ]
  },
  {
   "cell_type": "markdown",
   "metadata": {},
   "source": [
    "# Movshon lab - OpenEphys Converter\n",
    "This tutorial follows the step-by-step guide for a [NWB Converter](https://github.com/catalystneuro/nwb-conversion-tools/blob/master/documentation/conversion_tools_structure.md#step-by-step-operations)"
   ]
  },
  {
   "cell_type": "code",
   "execution_count": 2,
   "metadata": {},
   "outputs": [],
   "source": [
    "from movshon_lab_to_nwb import MovshonOpenEphysNWBConverter\n",
    "from pynwb import NWBFile, NWBHDF5IO\n",
    "from nwbwidgets import nwb2widget\n",
    "from pathlib import Path\n",
    "import yaml\n",
    "import pprint"
   ]
  },
  {
   "cell_type": "markdown",
   "metadata": {},
   "source": [
    "## Step 1 - Converter.get_source_schema()"
   ]
  },
  {
   "cell_type": "code",
   "execution_count": 3,
   "metadata": {},
   "outputs": [
    {
     "name": "stdout",
     "output_type": "stream",
     "text": [
      "{'OpenEphysRecordingExtractorInterface': {'additionalProperties': True,\n",
      "                                          'properties': {'folder_path': {'type': 'string'}},\n",
      "                                          'required': ['folder_path'],\n",
      "                                          'type': 'object'}}\n"
     ]
    }
   ],
   "source": [
    "# Get source_schema\n",
    "source_schema = MovshonOpenEphysNWBConverter.get_source_schema()\n",
    "pprint.pprint(source_schema['properties'], width=120)"
   ]
  },
  {
   "cell_type": "markdown",
   "metadata": {},
   "source": [
    "## Step 2 - Get user-input source_data that complies to the returned full source_schema"
   ]
  },
  {
   "cell_type": "code",
   "execution_count": 4,
   "metadata": {},
   "outputs": [
    {
     "name": "stdout",
     "output_type": "stream",
     "text": [
      "{'OpenEphysRecordingExtractorInterface': {'folder_path': '/home/luiz/storage/taufferconsulting/client_ben/project_movshon/movshon_data/oephys'}}\n"
     ]
    }
   ],
   "source": [
    "# Source data\n",
    "base_path = Path('/home/luiz/storage/taufferconsulting/client_ben/project_movshon/movshon_data/oephys/')\n",
    "\n",
    "source_data = dict(\n",
    "    OpenEphysRecordingExtractorInterface=dict(\n",
    "        folder_path=str(base_path),\n",
    "    ),\n",
    "#     OpenEphysSortingExtractorInterface=dict()\n",
    ")\n",
    "\n",
    "pprint.pprint(source_data, width=120)"
   ]
  },
  {
   "cell_type": "markdown",
   "metadata": {},
   "source": [
    "## Step 3 - Instantiate Converter"
   ]
  },
  {
   "cell_type": "code",
   "execution_count": 5,
   "metadata": {},
   "outputs": [
    {
     "name": "stdout",
     "output_type": "stream",
     "text": [
      "Loading Open-Ephys: reading settings...\n",
      "Decoding data from  openephys  format\n",
      "Data interfaces for this converter:\n",
      "{'OpenEphysRecordingExtractorInterface': <nwb_conversion_tools.datainterfaces.openephysdatainterface.OpenEphysRecordingExtractorInterface object at 0x7fadfddf0f28>}\n"
     ]
    }
   ],
   "source": [
    "# Initialize converter\n",
    "converter = MovshonOpenEphysNWBConverter(source_data=source_data)\n",
    "\n",
    "print('Data interfaces for this converter:')\n",
    "pprint.pprint(converter.data_interface_objects, width=120)"
   ]
  },
  {
   "cell_type": "markdown",
   "metadata": {},
   "source": [
    "## Step 4 - Converter.get_metadata_schema()"
   ]
  },
  {
   "cell_type": "code",
   "execution_count": 6,
   "metadata": {
    "scrolled": false
   },
   "outputs": [
    {
     "name": "stdout",
     "output_type": "stream",
     "text": [
      "{'$id': 'metadata.schema.json',\n",
      " '$schema': 'http://json-schema.org/draft-07/schema#',\n",
      " 'additionalProperties': False,\n",
      " 'description': 'Schema for the metadata',\n",
      " 'properties': {'Ecephys': {'Device': {'additionalProperties': False,\n",
      "                                       'properties': {'description': {'description': 'Description of the device (e.g., '\n",
      "                                                                                     'model, firmware version, '\n",
      "                                                                                     'processing software version, '\n",
      "                                                                                     'etc.)',\n",
      "                                                                      'type': 'string'},\n",
      "                                                      'manufacturer': {'description': 'the name of the manufacturer of '\n",
      "                                                                                      'this device',\n",
      "                                                                       'type': 'string'},\n",
      "                                                      'name': {'description': 'the name of this device',\n",
      "                                                               'type': 'string'}},\n",
      "                                       'required': ['name'],\n",
      "                                       'tag': 'pynwb.device.Device',\n",
      "                                       'type': 'object'},\n",
      "                            'ElectricalSeries': {'additionalProperties': False,\n",
      "                                                 'properties': {'comments': {'default': 'no comments',\n",
      "                                                                             'description': 'Human-readable comments '\n",
      "                                                                                            'about this TimeSeries '\n",
      "                                                                                            'dataset',\n",
      "                                                                             'type': 'string'},\n",
      "                                                                'conversion': {'default': 1.0,\n",
      "                                                                               'description': 'Scalar to multiply each '\n",
      "                                                                                              'element in data to '\n",
      "                                                                                              'convert it to the '\n",
      "                                                                                              'specified unit',\n",
      "                                                                               'type': 'number'},\n",
      "                                                                'description': {'default': 'no description',\n",
      "                                                                                'description': 'Description of this '\n",
      "                                                                                               'TimeSeries dataset',\n",
      "                                                                                'type': 'string'},\n",
      "                                                                'name': {'description': 'The name of this TimeSeries '\n",
      "                                                                                        'dataset',\n",
      "                                                                         'type': 'string'},\n",
      "                                                                'rate': {'description': 'Sampling rate in Hz',\n",
      "                                                                         'type': 'number'},\n",
      "                                                                'resolution': {'default': -1.0,\n",
      "                                                                               'description': 'The smallest meaningful '\n",
      "                                                                                              'difference (in '\n",
      "                                                                                              'specified unit) between '\n",
      "                                                                                              'values in data',\n",
      "                                                                               'type': 'number'},\n",
      "                                                                'starting_time': {'description': 'The timestamp of the '\n",
      "                                                                                                 'first sample',\n",
      "                                                                                  'type': 'number'}},\n",
      "                                                 'required': ['name'],\n",
      "                                                 'tag': 'pynwb.ecephys.ElectricalSeries',\n",
      "                                                 'type': 'object'},\n",
      "                            'ElectrodeGroup': {'additionalProperties': False,\n",
      "                                               'properties': {'description': {'description': 'description of this '\n",
      "                                                                                             'electrode group',\n",
      "                                                                              'type': 'string'},\n",
      "                                                              'device': {'description': 'the device that was used to '\n",
      "                                                                                        'record from this electrode '\n",
      "                                                                                        'group',\n",
      "                                                                         'target': 'pynwb.device.Device',\n",
      "                                                                         'type': 'string'},\n",
      "                                                              'location': {'description': 'description of location of '\n",
      "                                                                                          'this electrode group',\n",
      "                                                                           'type': 'string'},\n",
      "                                                              'name': {'description': 'the name of this electrode',\n",
      "                                                                       'type': 'string'}},\n",
      "                                               'required': ['device', 'location', 'description', 'name'],\n",
      "                                               'tag': 'pynwb.ecephys.ElectrodeGroup',\n",
      "                                               'type': 'object'},\n",
      "                            'required': ['ElectricalSeries', 'ElectrodeGroup', 'Device']},\n",
      "                'NWBFile': {'additionalProperties': False,\n",
      "                            'properties': {'data_collection': {'description': 'Notes about data collection and '\n",
      "                                                                              'analysis.',\n",
      "                                                               'type': 'string'},\n",
      "                                           'experiment_description': {'description': 'general description of the '\n",
      "                                                                                     'experiment',\n",
      "                                                                      'type': 'string'},\n",
      "                                           'experimenter': {'description': 'name of person who performed experiment',\n",
      "                                                            'items': {'title': 'experimenter', 'type': 'string'},\n",
      "                                                            'type': 'array'},\n",
      "                                           'identifier': {'description': 'a unique text identifier for the file',\n",
      "                                                          'type': 'string'},\n",
      "                                           'institution': {'description': 'institution(s) where experiment is '\n",
      "                                                                          'performed',\n",
      "                                                           'type': 'string'},\n",
      "                                           'lab': {'description': 'lab where experiment was performed',\n",
      "                                                   'type': 'string'},\n",
      "                                           'notes': {'description': 'Notes about the experiment.', 'type': 'string'},\n",
      "                                           'pharmacology': {'description': 'Description of drugs used, including how '\n",
      "                                                                           'and when they were administered. '\n",
      "                                                                           'Anesthesia(s), painkiller(s), etc., plus '\n",
      "                                                                           'dosage, concentration, etc.',\n",
      "                                                            'type': 'string'},\n",
      "                                           'protocol': {'description': 'Experimental protocol, if applicable. E.g., '\n",
      "                                                                       'include IACUC protocol',\n",
      "                                                        'type': 'string'},\n",
      "                                           'related_publications': {'description': 'Publication information.PMID, DOI, '\n",
      "                                                                                   'URL, etc. If multiple, concatenate '\n",
      "                                                                                   'together and describe which is '\n",
      "                                                                                   'which. such as PMID, DOI, URL, etc',\n",
      "                                                                    'type': 'string'},\n",
      "                                           'session_description': {'description': 'a description of the session where '\n",
      "                                                                                  'this data was generated',\n",
      "                                                                   'format': 'long',\n",
      "                                                                   'type': 'string'},\n",
      "                                           'session_id': {'description': 'lab-specific ID for the session',\n",
      "                                                          'type': 'string'},\n",
      "                                           'session_start_time': {'description': 'the start date and time of the '\n",
      "                                                                                 'recording session',\n",
      "                                                                  'format': 'date-time',\n",
      "                                                                  'type': 'string'},\n",
      "                                           'slices': {'description': 'Description of slices, including information '\n",
      "                                                                     'about preparation thickness, orientation, '\n",
      "                                                                     'temperature and bath solution',\n",
      "                                                      'type': 'string'},\n",
      "                                           'source_script': {'description': 'Script file used to create this NWB file.',\n",
      "                                                             'type': 'string'},\n",
      "                                           'source_script_file_name': {'description': 'Name of the source_script file',\n",
      "                                                                       'type': 'string'},\n",
      "                                           'stimulus_notes': {'description': 'Notes about stimuli, such as how and '\n",
      "                                                                             'where presented.',\n",
      "                                                              'type': 'string'},\n",
      "                                           'surgery': {'description': 'Narrative description about surgery/surgeries, '\n",
      "                                                                      'including date(s) and who performed surgery.',\n",
      "                                                       'type': 'string'},\n",
      "                                           'virus': {'description': 'Information about virus(es) used in experiments, '\n",
      "                                                                    'including virus ID, source, date made, injection '\n",
      "                                                                    'location, volume, etc.',\n",
      "                                                     'type': 'string'}},\n",
      "                            'required': ['session_description', 'identifier', 'session_start_time'],\n",
      "                            'tag': 'pynwb.file.NWBFile',\n",
      "                            'type': 'object'},\n",
      "                'Subject': {'additionalProperties': False,\n",
      "                            'properties': {'age': {'description': 'the age of the subject', 'type': 'string'},\n",
      "                                           'date_of_birth': {'description': 'datetime of date of birth. May be '\n",
      "                                                                            'supplied instead of age.',\n",
      "                                                             'format': 'date-time',\n",
      "                                                             'type': 'string'},\n",
      "                                           'description': {'description': 'a description of the subject',\n",
      "                                                           'type': 'string'},\n",
      "                                           'genotype': {'description': 'the genotype of the subject', 'type': 'string'},\n",
      "                                           'sex': {'description': 'the sex of the subject', 'type': 'string'},\n",
      "                                           'species': {'description': 'the species of the subject', 'type': 'string'},\n",
      "                                           'subject_id': {'description': 'a unique identifier for the subject',\n",
      "                                                          'type': 'string'},\n",
      "                                           'weight': {'description': 'the weight of the subject', 'type': 'string'}},\n",
      "                            'required': [],\n",
      "                            'tag': 'pynwb.file.Subject',\n",
      "                            'type': 'object'}},\n",
      " 'required': ['NWBFile'],\n",
      " 'title': 'Metadata',\n",
      " 'type': 'object',\n",
      " 'version': '0.1.0'}\n"
     ]
    }
   ],
   "source": [
    "# Get metadata_schema\n",
    "metadata_schema = converter.get_metadata_schema()\n",
    "pprint.pprint(metadata_schema, width=120)"
   ]
  },
  {
   "cell_type": "markdown",
   "metadata": {},
   "source": [
    "## Step 5 - Automatically fetches available metadata with Converter.get_metadata()"
   ]
  },
  {
   "cell_type": "code",
   "execution_count": 7,
   "metadata": {},
   "outputs": [
    {
     "name": "stdout",
     "output_type": "stream",
     "text": [
      "{'NWBFile': {'identifier': '98520adc-7076-11eb-ab7c-3b0d1d1018db',\n",
      "             'session_description': 'no description',\n",
      "             'session_start_time': datetime.datetime(2017, 10, 7, 20, 43, 23, tzinfo=<StaticTzInfo 'EST'>)}}\n"
     ]
    }
   ],
   "source": [
    "# Get metadata from source data\n",
    "metadata = converter.get_metadata()\n",
    "pprint.pprint(metadata, width=120)"
   ]
  },
  {
   "cell_type": "markdown",
   "metadata": {},
   "source": [
    "## Step 6 - Get user-input metadata"
   ]
  },
  {
   "cell_type": "code",
   "execution_count": 9,
   "metadata": {},
   "outputs": [
    {
     "name": "stdout",
     "output_type": "stream",
     "text": [
      "{'NWBFile': {'identifier': '98520adc-7076-11eb-ab7c-3b0d1d1018db',\n",
      "             'session_description': 'example conversion',\n",
      "             'session_start_time': datetime.datetime(2017, 10, 7, 20, 43, 23, tzinfo=<StaticTzInfo 'EST'>)}}\n"
     ]
    }
   ],
   "source": [
    "metadata['NWBFile']['session_description'] = 'example conversion'\n",
    "pprint.pprint(metadata, width=120)"
   ]
  },
  {
   "cell_type": "markdown",
   "metadata": {},
   "source": [
    "## Step 7 - Converter.get_conversion_options_schema()"
   ]
  },
  {
   "cell_type": "code",
   "execution_count": 13,
   "metadata": {},
   "outputs": [
    {
     "name": "stdout",
     "output_type": "stream",
     "text": [
      "Conversion options for each data interface: \n",
      "\n",
      "{'OpenEphysRecordingExtractorInterface': {'additionalProperties': False,\n",
      "                                          'properties': {'overwrite': {'default': False, 'type': 'boolean'},\n",
      "                                                         'return_scaled': {'default': False, 'type': 'boolean'},\n",
      "                                                         'save_path': {'type': 'string'},\n",
      "                                                         'stub_test': {'default': False, 'type': 'boolean'},\n",
      "                                                         'use_timestamps': {'default': False, 'type': 'boolean'},\n",
      "                                                         'write_as_lfp': {'default': False, 'type': 'boolean'}},\n",
      "                                          'required': [],\n",
      "                                          'type': 'object'}}\n"
     ]
    }
   ],
   "source": [
    "conversion_options_schema = converter.get_conversion_options_schema()\n",
    "\n",
    "print('Conversion options for each data interface: \\n')\n",
    "pprint.pprint(conversion_options_schema['properties'], width=120)"
   ]
  },
  {
   "cell_type": "markdown",
   "metadata": {},
   "source": [
    "## Step 8 - Get user-input conversion options"
   ]
  },
  {
   "cell_type": "code",
   "execution_count": 18,
   "metadata": {},
   "outputs": [],
   "source": [
    "conversion_options = dict(\n",
    "    OpenEphysRecordingExtractorInterface=dict(\n",
    "        write_as_lfp=True\n",
    "    )\n",
    ")"
   ]
  },
  {
   "cell_type": "markdown",
   "metadata": {},
   "source": [
    "## Step 9 - Run conversion user filled metadata and conversion_options"
   ]
  },
  {
   "cell_type": "code",
   "execution_count": 20,
   "metadata": {},
   "outputs": [
    {
     "ename": "TypeError",
     "evalue": "write_recording() got an unexpected keyword argument 'return_scaled'",
     "output_type": "error",
     "traceback": [
      "\u001b[0;31m---------------------------------------------------------------------------\u001b[0m",
      "\u001b[0;31mTypeError\u001b[0m                                 Traceback (most recent call last)",
      "\u001b[0;32m<ipython-input-20-cbf0c2b0a84a>\u001b[0m in \u001b[0;36m<module>\u001b[0;34m\u001b[0m\n\u001b[1;32m      5\u001b[0m     \u001b[0mnwbfile_path\u001b[0m\u001b[0;34m=\u001b[0m\u001b[0moutput_file\u001b[0m\u001b[0;34m,\u001b[0m\u001b[0;34m\u001b[0m\u001b[0;34m\u001b[0m\u001b[0m\n\u001b[1;32m      6\u001b[0m     \u001b[0msave_to_file\u001b[0m\u001b[0;34m=\u001b[0m\u001b[0;32mTrue\u001b[0m\u001b[0;34m,\u001b[0m\u001b[0;34m\u001b[0m\u001b[0;34m\u001b[0m\u001b[0m\n\u001b[0;32m----> 7\u001b[0;31m     \u001b[0mconversion_options\u001b[0m\u001b[0;34m=\u001b[0m\u001b[0mconversion_options\u001b[0m\u001b[0;34m\u001b[0m\u001b[0;34m\u001b[0m\u001b[0m\n\u001b[0m\u001b[1;32m      8\u001b[0m )\n",
      "\u001b[0;32m/media/luiz/storage/Github/nwb-conversion-tools/nwb_conversion_tools/nwbconverter.py\u001b[0m in \u001b[0;36mrun_conversion\u001b[0;34m(self, metadata, save_to_file, nwbfile_path, overwrite, nwbfile, conversion_options)\u001b[0m\n\u001b[1;32m    140\u001b[0m \u001b[0;34m\u001b[0m\u001b[0m\n\u001b[1;32m    141\u001b[0m                 \u001b[0;32mfor\u001b[0m \u001b[0minterface_name\u001b[0m\u001b[0;34m,\u001b[0m \u001b[0mdata_interface\u001b[0m \u001b[0;32min\u001b[0m \u001b[0mself\u001b[0m\u001b[0;34m.\u001b[0m\u001b[0mdata_interface_objects\u001b[0m\u001b[0;34m.\u001b[0m\u001b[0mitems\u001b[0m\u001b[0;34m(\u001b[0m\u001b[0;34m)\u001b[0m\u001b[0;34m:\u001b[0m\u001b[0;34m\u001b[0m\u001b[0;34m\u001b[0m\u001b[0m\n\u001b[0;32m--> 142\u001b[0;31m                     \u001b[0mdata_interface\u001b[0m\u001b[0;34m.\u001b[0m\u001b[0mrun_conversion\u001b[0m\u001b[0;34m(\u001b[0m\u001b[0mnwbfile\u001b[0m\u001b[0;34m,\u001b[0m \u001b[0mmetadata\u001b[0m\u001b[0;34m,\u001b[0m \u001b[0;34m**\u001b[0m\u001b[0mconversion_options\u001b[0m\u001b[0;34m.\u001b[0m\u001b[0mget\u001b[0m\u001b[0;34m(\u001b[0m\u001b[0minterface_name\u001b[0m\u001b[0;34m,\u001b[0m \u001b[0mdict\u001b[0m\u001b[0;34m(\u001b[0m\u001b[0;34m)\u001b[0m\u001b[0;34m)\u001b[0m\u001b[0;34m)\u001b[0m\u001b[0;34m\u001b[0m\u001b[0;34m\u001b[0m\u001b[0m\n\u001b[0m\u001b[1;32m    143\u001b[0m \u001b[0;34m\u001b[0m\u001b[0m\n\u001b[1;32m    144\u001b[0m                 \u001b[0mio\u001b[0m\u001b[0;34m.\u001b[0m\u001b[0mwrite\u001b[0m\u001b[0;34m(\u001b[0m\u001b[0mnwbfile\u001b[0m\u001b[0;34m)\u001b[0m\u001b[0;34m\u001b[0m\u001b[0;34m\u001b[0m\u001b[0m\n",
      "\u001b[0;32m/media/luiz/storage/Github/nwb-conversion-tools/nwb_conversion_tools/datainterfaces/openephysdatainterface.py\u001b[0m in \u001b[0;36mrun_conversion\u001b[0;34m(self, nwbfile, metadata, use_timestamps, write_as_lfp, return_scaled, save_path, overwrite, stub_test)\u001b[0m\n\u001b[1;32m     97\u001b[0m             \u001b[0msave_path\u001b[0m\u001b[0;34m=\u001b[0m\u001b[0msave_path\u001b[0m\u001b[0;34m,\u001b[0m\u001b[0;34m\u001b[0m\u001b[0;34m\u001b[0m\u001b[0m\n\u001b[1;32m     98\u001b[0m             \u001b[0moverwrite\u001b[0m\u001b[0;34m=\u001b[0m\u001b[0moverwrite\u001b[0m\u001b[0;34m,\u001b[0m\u001b[0;34m\u001b[0m\u001b[0;34m\u001b[0m\u001b[0m\n\u001b[0;32m---> 99\u001b[0;31m             \u001b[0mstub_test\u001b[0m\u001b[0;34m=\u001b[0m\u001b[0mstub_test\u001b[0m\u001b[0;34m\u001b[0m\u001b[0;34m\u001b[0m\u001b[0m\n\u001b[0m\u001b[1;32m    100\u001b[0m         )\n\u001b[1;32m    101\u001b[0m \u001b[0;34m\u001b[0m\u001b[0m\n",
      "\u001b[0;32m/media/luiz/storage/Github/nwb-conversion-tools/nwb_conversion_tools/baserecordingextractorinterface.py\u001b[0m in \u001b[0;36mrun_conversion\u001b[0;34m(self, nwbfile, metadata, use_timestamps, write_as_lfp, return_scaled, save_path, overwrite, stub_test)\u001b[0m\n\u001b[1;32m    116\u001b[0m             \u001b[0mreturn_scaled\u001b[0m\u001b[0;34m=\u001b[0m\u001b[0mreturn_scaled\u001b[0m\u001b[0;34m,\u001b[0m\u001b[0;34m\u001b[0m\u001b[0;34m\u001b[0m\u001b[0m\n\u001b[1;32m    117\u001b[0m             \u001b[0msave_path\u001b[0m\u001b[0;34m=\u001b[0m\u001b[0msave_path\u001b[0m\u001b[0;34m,\u001b[0m\u001b[0;34m\u001b[0m\u001b[0;34m\u001b[0m\u001b[0m\n\u001b[0;32m--> 118\u001b[0;31m             \u001b[0moverwrite\u001b[0m\u001b[0;34m=\u001b[0m\u001b[0moverwrite\u001b[0m\u001b[0;34m\u001b[0m\u001b[0;34m\u001b[0m\u001b[0m\n\u001b[0m\u001b[1;32m    119\u001b[0m         )\n",
      "\u001b[0;31mTypeError\u001b[0m: write_recording() got an unexpected keyword argument 'return_scaled'"
     ]
    }
   ],
   "source": [
    "output_file = 'out_example.nwb'\n",
    "\n",
    "converter.run_conversion(\n",
    "    metadata=metadata, \n",
    "    nwbfile_path=output_file, \n",
    "    save_to_file=True,\n",
    "    conversion_options=conversion_options\n",
    ")"
   ]
  },
  {
   "cell_type": "markdown",
   "metadata": {},
   "source": [
    "## Final 1 - Check NWB file"
   ]
  },
  {
   "cell_type": "code",
   "execution_count": null,
   "metadata": {
    "scrolled": false
   },
   "outputs": [],
   "source": [
    "# load file\n",
    "fname = 'out_example.nwb'\n",
    "with NWBHDF5IO(fname, 'r') as io:\n",
    "    nwbfile = io.read()\n",
    "    print(nwbfile)"
   ]
  },
  {
   "cell_type": "markdown",
   "metadata": {
    "scrolled": false
   },
   "source": [
    "## Final 2 - Check NWB file with widgets"
   ]
  },
  {
   "cell_type": "code",
   "execution_count": null,
   "metadata": {},
   "outputs": [],
   "source": [
    "io = NWBHDF5IO(fname, 'r')\n",
    "nwbfile = io.read()\n",
    "nwb2widget(nwbfile)"
   ]
  }
 ],
 "metadata": {
  "kernelspec": {
   "display_name": "Python 3.6.12 64-bit ('env_klusta': conda)",
   "language": "python",
   "name": "python361264bitenvklustaconda547e2c711ff048128525ba091e3078eb"
  },
  "language_info": {
   "codemirror_mode": {
    "name": "ipython",
    "version": 3
   },
   "file_extension": ".py",
   "mimetype": "text/x-python",
   "name": "python",
   "nbconvert_exporter": "python",
   "pygments_lexer": "ipython3",
   "version": "3.6.12"
  }
 },
 "nbformat": 4,
 "nbformat_minor": 4
}
