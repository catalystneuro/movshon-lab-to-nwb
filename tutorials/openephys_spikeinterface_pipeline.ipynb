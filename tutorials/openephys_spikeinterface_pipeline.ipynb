{
 "cells": [
  {
   "cell_type": "code",
   "execution_count": null,
   "metadata": {},
   "outputs": [],
   "source": [
    "# Notebook settings\n",
    "%load_ext autoreload\n",
    "%autoreload 2\n",
    "# %matplotlib notebook\n",
    "%config Completer.use_jedi = False"
   ]
  },
  {
   "cell_type": "markdown",
   "metadata": {},
   "source": [
    "# SpikeInterface pipeline for Movshon Lab - OpenEphys"
   ]
  },
  {
   "cell_type": "code",
   "execution_count": null,
   "metadata": {},
   "outputs": [],
   "source": [
    "from pathlib import Path\n",
    "import numpy as np\n",
    "import matplotlib.pyplot as plt\n",
    "from pprint import pprint\n",
    "import pytz\n",
    "\n",
    "import spikeextractors as se\n",
    "import spiketoolkit as st\n",
    "import spikesorters as ss\n",
    "import spikecomparison as sc\n",
    "import spikewidgets as sw"
   ]
  },
  {
   "cell_type": "markdown",
   "metadata": {},
   "source": [
    "## 1) Load recordings, compute LFP, and inspect signals"
   ]
  },
  {
   "cell_type": "code",
   "execution_count": null,
   "metadata": {},
   "outputs": [],
   "source": [
    "# Data files directory\n",
    "# dir_path = Path('/home/luiz/storage/taufferconsulting/client_ben/project_movshon/movshon_data/oephys')\n",
    "dir_path = Path('/home/luiz/storage/taufferconsulting/client_ben/project_movshon/movshon_data/expo/exampledata/expo_openephys/m666l3#7/openephys')\n",
    "\n",
    "# Spikeinterface directory\n",
    "dir_spikeinterface = dir_path / \"spikeinterface\"\n",
    "dir_spikeinterface.mkdir(parents=True, exist_ok=True)\n",
    "print(dir_spikeinterface)\n",
    "\n",
    "# Create recording extractor\n",
    "recording = se.OpenEphysRecordingExtractor(folder_path=dir_path)\n",
    "\n",
    "print()\n",
    "print(f\"Num channels: {recording.get_num_channels()}\")\n",
    "print(f\"Sampling rate: {recording.get_sampling_frequency()}\")\n",
    "print(f\"Duration (s): {recording.get_num_frames() / recording.get_sampling_frequency()}\")"
   ]
  },
  {
   "cell_type": "markdown",
   "metadata": {},
   "source": [
    "### Compute LFP"
   ]
  },
  {
   "cell_type": "code",
   "execution_count": null,
   "metadata": {},
   "outputs": [],
   "source": [
    "freq_min_lfp = 1\n",
    "freq_max_lfp = 300\n",
    "freq_resample_lfp = 1000.\n",
    "\n",
    "# Apply bandpass filter\n",
    "recording_lfp = st.preprocessing.bandpass_filter(\n",
    "    recording=recording, \n",
    "    freq_min=freq_min_lfp, \n",
    "    freq_max=freq_max_lfp\n",
    ")\n",
    "\n",
    "# Resample lfp\n",
    "recording_lfp = st.preprocessing.resample(\n",
    "    recording=recording_lfp, \n",
    "    resample_rate=freq_resample_lfp,\n",
    ")\n",
    "\n",
    "print(f\"Sampling frequency Raw: {recording.get_sampling_frequency()}\")\n",
    "print(f\"Sampling frequency LF: {recording_lfp.get_sampling_frequency()}\")   "
   ]
  },
  {
   "cell_type": "markdown",
   "metadata": {},
   "source": [
    "### Inspect signals"
   ]
  },
  {
   "cell_type": "code",
   "execution_count": null,
   "metadata": {},
   "outputs": [],
   "source": [
    "w_ts_raw = sw.plot_timeseries(recording, trange=[0, 5], channel_ids=[1, 2, 3])"
   ]
  },
  {
   "cell_type": "code",
   "execution_count": null,
   "metadata": {},
   "outputs": [],
   "source": [
    "w_ts_lf = sw.plot_timeseries(recording_lfp, trange=[0, 5], channel_ids=[1, 2, 3])"
   ]
  },
  {
   "cell_type": "markdown",
   "metadata": {},
   "source": [
    "## 2) Pre-processing\n",
    "- Filters\n",
    "- Common-reference removal\n",
    "- Remove bad channels\n",
    "- Remove stimulation artifacts\n",
    "\n",
    "Ref: https://spikeinterface.readthedocs.io/en/latest/modules/toolkit/plot_1_preprocessing.html#preprocessing-tutorial"
   ]
  },
  {
   "cell_type": "code",
   "execution_count": null,
   "metadata": {},
   "outputs": [],
   "source": [
    "apply_filter = True\n",
    "apply_cmr = True\n",
    "freq_min_hp = 300\n",
    "freq_max_hp = 3000"
   ]
  },
  {
   "cell_type": "code",
   "execution_count": null,
   "metadata": {},
   "outputs": [],
   "source": [
    "# Filtered recordings\n",
    "if apply_filter:\n",
    "    recording_processed = st.preprocessing.bandpass_filter(recording, freq_min=freq_min_hp, freq_max=freq_max_hp)\n",
    "else:\n",
    "    recording_processed = recording\n",
    "\n",
    "if apply_cmr:\n",
    "    recording_processed = st.preprocessing.common_reference(recording_processed)\n",
    "    \n",
    "# Stub recording for fast testing; set to False for running processing pipeline on entire data\n",
    "stub_test = True\n",
    "nsec_stub = 10\n",
    "subr_ids = [i + 1 for i in range(10)]\n",
    "if stub_test:\n",
    "    recording_processed = se.SubRecordingExtractor(\n",
    "        parent_recording=recording_processed, \n",
    "        channel_ids=subr_ids,\n",
    "        end_frame=int(nsec_stub*recording_processed.get_sampling_frequency())\n",
    "    )\n",
    "    recording_lfp = se.SubRecordingExtractor(recording_lfp, end_frame=int(nsec_stub*recording_lfp.get_sampling_frequency()))\n",
    "    \n",
    "print(f\"Original signal length: {recording.get_num_frames()}\")\n",
    "print(f\"Processed signal length: {recording_processed.get_num_frames()}\")"
   ]
  },
  {
   "cell_type": "code",
   "execution_count": null,
   "metadata": {},
   "outputs": [],
   "source": [
    "w_ts_processed = sw.plot_timeseries(recording_processed, trange=[0, 5], channel_ids=[1, 2, 3])"
   ]
  },
  {
   "cell_type": "markdown",
   "metadata": {},
   "source": [
    "## 3) Run spike sorters\n",
    "\n",
    "Ref: https://spikeinterface.readthedocs.io/en/latest/sortersinfo.html"
   ]
  },
  {
   "cell_type": "code",
   "execution_count": null,
   "metadata": {},
   "outputs": [],
   "source": [
    "ss.installed_sorters()"
   ]
  },
  {
   "cell_type": "code",
   "execution_count": null,
   "metadata": {
    "scrolled": false
   },
   "outputs": [],
   "source": [
    "sorter_list = ['klusta']\n",
    "\n",
    "# Inspect sorter-specific parameters and defaults\n",
    "for sorter in sorter_list:\n",
    "    print(f\"{sorter} params description:\")\n",
    "    pprint(ss.get_params_description(sorter))\n",
    "    print(\"Default params:\")\n",
    "    pprint(ss.get_default_params(sorter))\n",
    "    print()"
   ]
  },
  {
   "cell_type": "code",
   "execution_count": null,
   "metadata": {
    "scrolled": false
   },
   "outputs": [],
   "source": [
    "# Choose which recording to use for sorting\n",
    "rec_to_sort = recording_processed\n",
    "\n",
    "# run sorting\n",
    "sorting = ss.run_klusta(\n",
    "    recording=rec_to_sort, \n",
    "    output_folder=dir_spikeinterface / \"si_output\"\n",
    ")"
   ]
  },
  {
   "cell_type": "markdown",
   "metadata": {},
   "source": [
    "## 4) Post-processing\n",
    "- Compute spike waveforms\n",
    "- Compute unit templates\n",
    "- Compute extracellular features\n",
    "\n",
    "Ref: https://spikeinterface.readthedocs.io/en/latest/modules/toolkit/plot_2_postprocessing.html"
   ]
  },
  {
   "cell_type": "markdown",
   "metadata": {},
   "source": [
    "### Postprocess sorting results"
   ]
  },
  {
   "cell_type": "code",
   "execution_count": null,
   "metadata": {},
   "outputs": [],
   "source": [
    "# Post-processing params\n",
    "postprocessing_params = st.postprocessing.get_common_params()\n",
    "pprint(postprocessing_params)"
   ]
  },
  {
   "cell_type": "code",
   "execution_count": null,
   "metadata": {},
   "outputs": [],
   "source": [
    "# (optional) change parameters\n",
    "postprocessing_params['max_spikes_per_unit'] = 1000  # with None, all waveforms are extracted"
   ]
  },
  {
   "cell_type": "code",
   "execution_count": null,
   "metadata": {},
   "outputs": [],
   "source": [
    "tmp_folder = dir_spikeinterface / 'tmp' / 'klusta'\n",
    "tmp_folder.mkdir(parents=True, exist_ok=True)\n",
    "\n",
    "# set local tmp folder\n",
    "sorting.set_tmp_folder(tmp_folder)\n",
    "\n",
    "# compute waveforms\n",
    "waveforms = st.postprocessing.get_unit_waveforms(rec_to_sort, sorting, **postprocessing_params)\n",
    "\n",
    "# compute templates\n",
    "templates = st.postprocessing.get_unit_templates(rec_to_sort, sorting, **postprocessing_params)\n",
    "\n",
    "# export to phy\n",
    "phy_folder = dir_spikeinterface / 'phy' / 'klusta'\n",
    "phy_folder.mkdir(parents=True, exist_ok=True)\n",
    "st.postprocessing.export_to_phy(rec_to_sort, sorting, phy_folder)"
   ]
  },
  {
   "cell_type": "code",
   "execution_count": null,
   "metadata": {
    "scrolled": false
   },
   "outputs": [],
   "source": [
    "# Visualize spike template waverforms\n",
    "unit_id = 1\n",
    "\n",
    "plt.figure(figsize=(12, 6))\n",
    "spk = np.squeeze(templates[unit_id])\n",
    "plt.plot(spk.T)\n",
    "plt.ylabel('Avg spike trace per channel', fontsize=12)"
   ]
  },
  {
   "cell_type": "code",
   "execution_count": null,
   "metadata": {},
   "outputs": [],
   "source": [
    "# Extracellular features\n",
    "ec_list = st.postprocessing.get_template_features_list()\n",
    "print(f\"Available EC features: {ec_list}\")"
   ]
  },
  {
   "cell_type": "code",
   "execution_count": null,
   "metadata": {},
   "outputs": [],
   "source": [
    "# (optional) define subset of ec\n",
    "ec_list = [\"peak_to_valley\", \"halfwidth\"]"
   ]
  },
  {
   "cell_type": "code",
   "execution_count": null,
   "metadata": {},
   "outputs": [],
   "source": [
    "# comput EC features\n",
    "ec = st.postprocessing.compute_unit_template_features(\n",
    "    rec_to_sort, \n",
    "    sorting,\n",
    "    feature_names=ec_list, \n",
    "    as_dataframe=True\n",
    ")\n",
    "\n",
    "ec.head()"
   ]
  },
  {
   "cell_type": "markdown",
   "metadata": {},
   "source": [
    "# 5) Automatic curation\n",
    "\n",
    "You can automatically curate the spike sorting output using the quality metrics.\n",
    "\n",
    "Ref: https://spikeinterface.readthedocs.io/en/latest/modules/toolkit/plot_4_curation.html"
   ]
  },
  {
   "cell_type": "code",
   "execution_count": null,
   "metadata": {},
   "outputs": [],
   "source": [
    "# st.validation.compute_quality_metrics?\n",
    "\n",
    "# Quality metrics\n",
    "qc_list = st.validation.get_quality_metrics_list()\n",
    "print(f\"Available quality metrics: {qc_list}\")"
   ]
  },
  {
   "cell_type": "code",
   "execution_count": null,
   "metadata": {},
   "outputs": [],
   "source": [
    "# (optional) define subset of qc\n",
    "qc_list = [\"snr\", \"isi_violation\", \"firing_rate\"]"
   ]
  },
  {
   "cell_type": "code",
   "execution_count": null,
   "metadata": {},
   "outputs": [],
   "source": [
    "# compute quality metrics\n",
    "qc = st.validation.compute_quality_metrics(\n",
    "    sorting=sorting, \n",
    "    recording=rec_to_sort, \n",
    "    metric_names=qc_list, \n",
    "    as_dataframe=True\n",
    ")\n",
    "\n",
    "qc.head(10)"
   ]
  },
  {
   "cell_type": "code",
   "execution_count": null,
   "metadata": {},
   "outputs": [],
   "source": [
    "# define curators and thresholds\n",
    "firing_rate_threshold = 0.1\n",
    "isi_violation_threshold = 0.6\n",
    "snr_threshold = 4"
   ]
  },
  {
   "cell_type": "code",
   "execution_count": null,
   "metadata": {},
   "outputs": [],
   "source": [
    "num_frames = rec_to_sort.get_num_frames()\n",
    "\n",
    "# firing rate threshold\n",
    "sorting_curated = st.curation.threshold_firing_rates(\n",
    "    sorting,\n",
    "    duration_in_frames=num_frames,\n",
    "    threshold=firing_rate_threshold, \n",
    "    threshold_sign='less'\n",
    ")\n",
    "\n",
    "# isi violation threshold\n",
    "sorting_curated = st.curation.threshold_isi_violations(\n",
    "    sorting_curated,\n",
    "    duration_in_frames=num_frames,\n",
    "    threshold=isi_violation_threshold, \n",
    "    threshold_sign='greater'\n",
    ")\n",
    "\n",
    "# isi violation threshold\n",
    "sorting_curated = st.curation.threshold_snrs(\n",
    "    sorting_curated,\n",
    "    recording=rec_to_sort,\n",
    "    threshold=snr_threshold, \n",
    "    threshold_sign='less'\n",
    ")"
   ]
  },
  {
   "cell_type": "code",
   "execution_count": null,
   "metadata": {},
   "outputs": [],
   "source": [
    "print(f'Number of sorted units before curation: {len(sorting.get_unit_ids())}')\n",
    "print(f'Number of sorted units after curation: {len(sorting_curated.get_unit_ids())}')"
   ]
  },
  {
   "cell_type": "markdown",
   "metadata": {},
   "source": [
    "# 6) Quick save to NWB using Spikeinterface\n",
    "\n",
    "Ref: https://pynwb.readthedocs.io/en/stable/pynwb.file.html#pynwb.file.NWBFile"
   ]
  },
  {
   "cell_type": "code",
   "execution_count": null,
   "metadata": {},
   "outputs": [],
   "source": [
    "# Save results to NWB file\n",
    "output_nwb = 'openephys_si_results.nwb'\n",
    "\n",
    "# Add customized Metadata info - Optional\n",
    "session_start_time = recording._fileobj.experiments[0].datetime\n",
    "session_start_time_tzaware = pytz.timezone('EST').localize(session_start_time)\n",
    "\n",
    "metadata = se.NwbRecordingExtractor.get_nwb_metadata(recording=rec_to_sort)\n",
    "metadata['NWBFile'].update(\n",
    "    session_start_time=session_start_time_tzaware,\n",
    "    session_description='a detailed description of this experimental session...',\n",
    "    institution='NYU',\n",
    "    lab='Movshon lab',\n",
    "    pharmacology='Description of drugs used',\n",
    "    experimenter=['Person1', 'Person2'],\n",
    "    keywords=['openephys', 'tutorial', 'etc']\n",
    ")\n",
    "metadata['Ecephys']['Device'][0].update(description='a detailed description of this device')\n",
    "\n",
    "# Write voltage traces data\n",
    "se.NwbRecordingExtractor.write_recording(\n",
    "    recording=rec_to_sort,\n",
    "    save_path=output_nwb,\n",
    "    overwrite=True,\n",
    "    metadata=metadata\n",
    ")\n",
    "\n",
    "# Write spiking data\n",
    "se.NwbSortingExtractor.write_sorting(\n",
    "    sorting=sorting_curated,\n",
    "    save_path=output_nwb,\n",
    "    overwrite=False\n",
    ")"
   ]
  },
  {
   "cell_type": "code",
   "execution_count": null,
   "metadata": {
    "scrolled": false
   },
   "outputs": [],
   "source": [
    "# Check NWB file with widgets\n",
    "from pynwb import NWBFile, NWBHDF5IO\n",
    "from nwbwidgets import nwb2widget\n",
    "\n",
    "io = NWBHDF5IO(output_nwb, 'r')\n",
    "nwbfile = io.read()\n",
    "nwb2widget(nwbfile)"
   ]
  },
  {
   "cell_type": "code",
   "execution_count": null,
   "metadata": {},
   "outputs": [],
   "source": [
    "io.close()"
   ]
  },
  {
   "cell_type": "markdown",
   "metadata": {},
   "source": [
    "# 7) Include Expo trials with NWB conversion tools"
   ]
  },
  {
   "cell_type": "code",
   "execution_count": null,
   "metadata": {},
   "outputs": [],
   "source": [
    "from movshon_lab_to_nwb import MovshonExpoNWBConverter"
   ]
  },
  {
   "cell_type": "code",
   "execution_count": null,
   "metadata": {},
   "outputs": [],
   "source": [
    "# Source data\n",
    "base_path = Path('/home/luiz/storage/taufferconsulting/client_ben/project_movshon/movshon_data/expo/exampledata/expo_openephys/m666l3#7')\n",
    "\n",
    "expo_file = base_path / 'm666l3#7[ori16].xml'\n",
    "ttl_file = base_path / 'openephys/100_ADC1.continuous'\n",
    "\n",
    "source_data = dict(\n",
    "    ExpoDataInterface=dict(\n",
    "        expo_file=str(expo_file),\n",
    "        ttl_file=str(ttl_file)\n",
    "    )\n",
    ")\n",
    "\n",
    "# Initialize converter\n",
    "converter = MovshonExpoNWBConverter(source_data=source_data)\n",
    "\n",
    "# Conversion options\n",
    "conversion_options = dict(\n",
    "    ExpoDataInterface=dict(convert_expo=True)\n",
    ")\n",
    "\n",
    "converter.run_conversion(\n",
    "    metadata={},\n",
    "    nwbfile_path=output_nwb, \n",
    "    overwrite=False,\n",
    "    conversion_options=conversion_options\n",
    ")"
   ]
  },
  {
   "cell_type": "code",
   "execution_count": null,
   "metadata": {
    "scrolled": false
   },
   "outputs": [],
   "source": [
    "io = NWBHDF5IO(output_nwb, 'r')\n",
    "nwbfile = io.read()\n",
    "nwb2widget(nwbfile)"
   ]
  },
  {
   "cell_type": "code",
   "execution_count": null,
   "metadata": {},
   "outputs": [],
   "source": [
    "io.close()"
   ]
  },
  {
   "cell_type": "code",
   "execution_count": null,
   "metadata": {},
   "outputs": [],
   "source": []
  },
  {
   "cell_type": "code",
   "execution_count": null,
   "metadata": {},
   "outputs": [],
   "source": []
  }
 ],
 "metadata": {
  "kernelspec": {
   "display_name": "Python 3",
   "language": "python",
   "name": "python3"
  },
  "language_info": {
   "codemirror_mode": {
    "name": "ipython",
    "version": 3
   },
   "file_extension": ".py",
   "mimetype": "text/x-python",
   "name": "python",
   "nbconvert_exporter": "python",
   "pygments_lexer": "ipython3",
   "version": "3.6.13"
  }
 },
 "nbformat": 4,
 "nbformat_minor": 4
}
