{
 "cells": [
  {
   "cell_type": "code",
   "execution_count": 1,
   "metadata": {},
   "outputs": [],
   "source": [
    "%load_ext autoreload\n",
    "%autoreload 2"
   ]
  },
  {
   "cell_type": "markdown",
   "metadata": {},
   "source": [
    "# Movshon lab - Blackrock Converter\n",
    "This tutorial follows the step-by-step guide for a [NWB Converter](https://github.com/catalystneuro/nwb-conversion-tools/blob/master/documentation/conversion_tools_structure.md#step-by-step-operations)"
   ]
  },
  {
   "cell_type": "code",
   "execution_count": 4,
   "metadata": {},
   "outputs": [],
   "source": [
    "from movshon_lab_to_nwb import MovshonBlackrockNWBConverter\n",
    "from pynwb import NWBFile, NWBHDF5IO\n",
    "from nwbwidgets import nwb2widget\n",
    "from pathlib import Path\n",
    "import yaml\n",
    "import pprint"
   ]
  },
  {
   "cell_type": "markdown",
   "metadata": {},
   "source": [
    "## Step 1 - Converter.get_source_schema()"
   ]
  },
  {
   "cell_type": "code",
   "execution_count": 5,
   "metadata": {},
   "outputs": [
    {
     "output_type": "stream",
     "name": "stdout",
     "text": [
      "{'BlackrockRecordingExtractorInterface': {'additionalProperties': True,\n                                          'properties': {'filename': {'type': 'string'},\n                                                         'nsx_to_load': {'type': 'number'}},\n                                          'required': ['filename'],\n                                          'type': 'object'},\n 'BlackrockSortingExtractorInterface': {'additionalProperties': True,\n                                        'properties': {'block_index': {'type': 'number'},\n                                                       'filename': {'type': 'string'},\n                                                       'seg_index': {'type': 'number'}},\n                                        'required': ['filename'],\n                                        'type': 'object'}}\n"
     ]
    }
   ],
   "source": [
    "# Get source_schema\n",
    "source_schema = MovshonBlackrockNWBConverter.get_source_schema()\n",
    "pprint.pprint(source_schema['properties'], width=120)"
   ]
  },
  {
   "cell_type": "markdown",
   "metadata": {},
   "source": [
    "## Step 2 - Get user-input source_data that complies to the returned full source_schema"
   ]
  },
  {
   "cell_type": "code",
   "execution_count": 8,
   "metadata": {},
   "outputs": [
    {
     "output_type": "stream",
     "name": "stdout",
     "text": [
      "{'BlackrockRecordingExtractorInterface': {'filename': '/media/luiz/storage/taufferconsulting/client_ben/project_movshon/data/XX_LE_textures_20191128_002.ns3',\n                                          'nsx_to_load': 3},\n 'BlackrockSortingExtractorInterface': {'filename': '/media/luiz/storage/taufferconsulting/client_ben/project_movshon/data/XX_LE_textures_20191128_002.nev',\n                                        'nsx_to_load': 6}}\n"
     ]
    }
   ],
   "source": [
    "# Source data\n",
    "base_path = Path('/media/luiz/storage/taufferconsulting/client_ben/project_movshon/data/')\n",
    "file_recording = str(base_path / 'XX_LE_textures_20191128_002.ns3')\n",
    "file_sorting = str(base_path / 'XX_LE_textures_20191128_002.nev')\n",
    "\n",
    "source_data = dict(\n",
    "    BlackrockRecordingExtractorInterface=dict(\n",
    "        filename=file_recording,\n",
    "        nsx_to_load=3\n",
    "    ),\n",
    "    BlackrockSortingExtractorInterface=dict(\n",
    "        filename=file_sorting,\n",
    "        nsx_to_load=6\n",
    "    )\n",
    ")\n",
    "\n",
    "pprint.pprint(source_data, width=120)"
   ]
  },
  {
   "cell_type": "markdown",
   "metadata": {},
   "source": [
    "## Step 3 - Instantiate Converter"
   ]
  },
  {
   "cell_type": "code",
   "execution_count": 9,
   "metadata": {},
   "outputs": [
    {
     "output_type": "stream",
     "name": "stderr",
     "text": [
      "Exception ignored in: <function BaseExtractor.__del__ at 0x7f6d21911d30>\n",
      "Traceback (most recent call last):\n",
      "  File \"/media/luiz/storage/Github/spikeextractors/spikeextractors/baseextractor.py\", line 35, in __del__\n",
      "    for memmap_obj in self._memmap_files:\n",
      "AttributeError: 'BlackrockSortingExtractor' object has no attribute '_memmap_files'\n",
      "Data interfaces for this converter:\n",
      "{'BlackrockRecordingExtractorInterface': <nwb_conversion_tools.datainterfaces.blackrockdatainterface.BlackrockRecordingExtractorInterface object at 0x7f6dcc0dabe0>,\n",
      " 'BlackrockSortingExtractorInterface': <nwb_conversion_tools.datainterfaces.blackrockdatainterface.BlackrockSortingExtractorInterface object at 0x7f6ce8b2ffa0>}\n"
     ]
    }
   ],
   "source": [
    "# Initialize converter\n",
    "converter = MovshonBlackrockNWBConverter(source_data=source_data)\n",
    "\n",
    "print('Data interfaces for this converter:')\n",
    "pprint.pprint(converter.data_interface_objects, width=120)"
   ]
  },
  {
   "cell_type": "markdown",
   "metadata": {},
   "source": [
    "## Step 4 - Converter.get_metadata_schema()"
   ]
  },
  {
   "cell_type": "code",
   "execution_count": 10,
   "metadata": {
    "scrolled": false
   },
   "outputs": [
    {
     "output_type": "stream",
     "name": "stdout",
     "text": [
      "{'$id': 'metadata.schema.json',\n '$schema': 'http://json-schema.org/draft-07/schema#',\n 'additionalProperties': False,\n 'description': 'Schema for the metadata',\n 'properties': {'Ecephys': {'Device': {'additionalProperties': False,\n                                       'properties': {'description': {'description': 'Description of the device (e.g., '\n                                                                                     'model, firmware version, '\n                                                                                     'processing software version, '\n                                                                                     'etc.)',\n                                                                      'type': 'string'},\n                                                      'manufacturer': {'description': 'the name of the manufacturer of '\n                                                                                      'this device',\n                                                                       'type': 'string'},\n                                                      'name': {'description': 'the name of this device',\n                                                               'type': 'string'}},\n                                       'required': ['name'],\n                                       'tag': 'pynwb.device.Device',\n                                       'type': 'object'},\n                            'ElectricalSeries': {'additionalProperties': False,\n                                                 'properties': {'comments': {'default': 'no comments',\n                                                                             'description': 'Human-readable comments '\n                                                                                            'about this TimeSeries '\n                                                                                            'dataset',\n                                                                             'type': 'string'},\n                                                                'conversion': {'default': 1.0,\n                                                                               'description': 'Scalar to multiply each '\n                                                                                              'element in data to '\n                                                                                              'convert it to the '\n                                                                                              'specified unit',\n                                                                               'type': 'number'},\n                                                                'description': {'default': 'no description',\n                                                                                'description': 'Description of this '\n                                                                                               'TimeSeries dataset',\n                                                                                'type': 'string'},\n                                                                'name': {'description': 'The name of this TimeSeries '\n                                                                                        'dataset',\n                                                                         'type': 'string'},\n                                                                'rate': {'description': 'Sampling rate in Hz',\n                                                                         'type': 'number'},\n                                                                'resolution': {'default': -1.0,\n                                                                               'description': 'The smallest meaningful '\n                                                                                              'difference (in '\n                                                                                              'specified unit) between '\n                                                                                              'values in data',\n                                                                               'type': 'number'},\n                                                                'starting_time': {'description': 'The timestamp of the '\n                                                                                                 'first sample',\n                                                                                  'type': 'number'}},\n                                                 'required': ['name'],\n                                                 'tag': 'pynwb.ecephys.ElectricalSeries',\n                                                 'type': 'object'},\n                            'ElectrodeGroup': {'additionalProperties': False,\n                                               'properties': {'description': {'description': 'description of this '\n                                                                                             'electrode group',\n                                                                              'type': 'string'},\n                                                              'device': {'description': 'the device that was used to '\n                                                                                        'record from this electrode '\n                                                                                        'group',\n                                                                         'target': 'pynwb.device.Device',\n                                                                         'type': 'string'},\n                                                              'location': {'description': 'description of location of '\n                                                                                          'this electrode group',\n                                                                           'type': 'string'},\n                                                              'name': {'description': 'the name of this electrode',\n                                                                       'type': 'string'}},\n                                               'required': ['description', 'name', 'device', 'location'],\n                                               'tag': 'pynwb.ecephys.ElectrodeGroup',\n                                               'type': 'object'},\n                            'required': ['Device', 'ElectricalSeries', 'ElectrodeGroup']},\n                'NWBFile': {'additionalProperties': False,\n                            'properties': {'data_collection': {'description': 'Notes about data collection and '\n                                                                              'analysis.',\n                                                               'type': 'string'},\n                                           'experiment_description': {'description': 'general description of the '\n                                                                                     'experiment',\n                                                                      'type': 'string'},\n                                           'experimenter': {'description': 'name of person who performed experiment',\n                                                            'items': {'title': 'experimenter', 'type': 'string'},\n                                                            'type': 'array'},\n                                           'identifier': {'description': 'a unique text identifier for the file',\n                                                          'type': 'string'},\n                                           'institution': {'description': 'institution(s) where experiment is '\n                                                                          'performed',\n                                                           'type': 'string'},\n                                           'lab': {'description': 'lab where experiment was performed',\n                                                   'type': 'string'},\n                                           'notes': {'description': 'Notes about the experiment.', 'type': 'string'},\n                                           'pharmacology': {'description': 'Description of drugs used, including how '\n                                                                           'and when they were administered. '\n                                                                           'Anesthesia(s), painkiller(s), etc., plus '\n                                                                           'dosage, concentration, etc.',\n                                                            'type': 'string'},\n                                           'protocol': {'description': 'Experimental protocol, if applicable. E.g., '\n                                                                       'include IACUC protocol',\n                                                        'type': 'string'},\n                                           'related_publications': {'description': 'Publication information.PMID, DOI, '\n                                                                                   'URL, etc. If multiple, concatenate '\n                                                                                   'together and describe which is '\n                                                                                   'which. such as PMID, DOI, URL, etc',\n                                                                    'type': 'string'},\n                                           'session_description': {'description': 'a description of the session where '\n                                                                                  'this data was generated',\n                                                                   'format': 'long',\n                                                                   'type': 'string'},\n                                           'session_id': {'description': 'lab-specific ID for the session',\n                                                          'type': 'string'},\n                                           'session_start_time': {'description': 'the start date and time of the '\n                                                                                 'recording session',\n                                                                  'format': 'date-time',\n                                                                  'type': 'string'},\n                                           'slices': {'description': 'Description of slices, including information '\n                                                                     'about preparation thickness, orientation, '\n                                                                     'temperature and bath solution',\n                                                      'type': 'string'},\n                                           'source_script': {'description': 'Script file used to create this NWB file.',\n                                                             'type': 'string'},\n                                           'source_script_file_name': {'description': 'Name of the source_script file',\n                                                                       'type': 'string'},\n                                           'stimulus_notes': {'description': 'Notes about stimuli, such as how and '\n                                                                             'where presented.',\n                                                              'type': 'string'},\n                                           'surgery': {'description': 'Narrative description about surgery/surgeries, '\n                                                                      'including date(s) and who performed surgery.',\n                                                       'type': 'string'},\n                                           'virus': {'description': 'Information about virus(es) used in experiments, '\n                                                                    'including virus ID, source, date made, injection '\n                                                                    'location, volume, etc.',\n                                                     'type': 'string'}},\n                            'required': ['session_description', 'identifier', 'session_start_time'],\n                            'tag': 'pynwb.file.NWBFile',\n                            'type': 'object'},\n                'SpikeEventSeries': {'additionalProperties': False,\n                                     'properties': {'comments': {'default': 'no comments',\n                                                                 'description': 'Human-readable comments about this '\n                                                                                'TimeSeries dataset',\n                                                                 'type': 'string'},\n                                                    'conversion': {'default': 1.0,\n                                                                   'description': 'Scalar to multiply each element in '\n                                                                                  'data to convert it to the specified '\n                                                                                  'unit',\n                                                                   'type': 'number'},\n                                                    'description': {'default': 'no description',\n                                                                    'description': 'Description of this TimeSeries '\n                                                                                   'dataset',\n                                                                    'type': 'string'},\n                                                    'name': {'description': 'The name of this TimeSeries dataset',\n                                                             'type': 'string'},\n                                                    'resolution': {'default': -1.0,\n                                                                   'description': 'The smallest meaningful difference '\n                                                                                  '(in specified unit) between values '\n                                                                                  'in data',\n                                                                   'type': 'number'}},\n                                     'required': ['name'],\n                                     'tag': 'pynwb.ecephys.SpikeEventSeries',\n                                     'type': 'object'},\n                'Subject': {'additionalProperties': False,\n                            'properties': {'age': {'description': 'the age of the subject', 'type': 'string'},\n                                           'date_of_birth': {'description': 'datetime of date of birth. May be '\n                                                                            'supplied instead of age.',\n                                                             'format': 'date-time',\n                                                             'type': 'string'},\n                                           'description': {'description': 'a description of the subject',\n                                                           'type': 'string'},\n                                           'genotype': {'description': 'the genotype of the subject', 'type': 'string'},\n                                           'sex': {'description': 'the sex of the subject', 'type': 'string'},\n                                           'species': {'description': 'the species of the subject', 'type': 'string'},\n                                           'subject_id': {'description': 'a unique identifier for the subject',\n                                                          'type': 'string'},\n                                           'weight': {'description': 'the weight of the subject', 'type': 'string'}},\n                            'required': [],\n                            'tag': 'pynwb.file.Subject',\n                            'type': 'object'}},\n 'required': ['NWBFile', 'SpikeEventSeries'],\n 'title': 'Metadata',\n 'type': 'object',\n 'version': '0.1.0'}\n"
     ]
    }
   ],
   "source": [
    "# Get metadata_schema\n",
    "metadata_schema = converter.get_metadata_schema()\n",
    "pprint.pprint(metadata_schema, width=120)"
   ]
  },
  {
   "cell_type": "markdown",
   "metadata": {},
   "source": [
    "## Step 5 - Automatically fetches available metadata with Converter.get_metadata()"
   ]
  },
  {
   "cell_type": "code",
   "execution_count": null,
   "metadata": {},
   "outputs": [],
   "source": [
    "# Get metadata from source data\n",
    "metadata = converter.get_metadata()\n",
    "pprint.pprint(metadata, width=120)"
   ]
  },
  {
   "cell_type": "markdown",
   "metadata": {},
   "source": [
    "## Step 6 - Get user-input metadata"
   ]
  },
  {
   "cell_type": "code",
   "execution_count": null,
   "metadata": {},
   "outputs": [],
   "source": [
    "metadata['NWBFile']['session_description'] = 'example conversion'\n",
    "pprint.pprint(metadata, width=120)"
   ]
  },
  {
   "cell_type": "markdown",
   "metadata": {},
   "source": [
    "## Step 7 - Converter.get_conversion_options_schema()"
   ]
  },
  {
   "cell_type": "code",
   "execution_count": null,
   "metadata": {},
   "outputs": [],
   "source": [
    "# Not used for this converter"
   ]
  },
  {
   "cell_type": "markdown",
   "metadata": {},
   "source": [
    "## Step 8 - Get user-input conversion options"
   ]
  },
  {
   "cell_type": "code",
   "execution_count": null,
   "metadata": {},
   "outputs": [],
   "source": [
    "# Not used for this converter"
   ]
  },
  {
   "cell_type": "markdown",
   "metadata": {},
   "source": [
    "## Step 9 - Run conversion user filled metadata and conversion_options"
   ]
  },
  {
   "cell_type": "code",
   "execution_count": null,
   "metadata": {},
   "outputs": [],
   "source": [
    "output_file = 'out_example.nwb'\n",
    "\n",
    "converter.run_conversion(\n",
    "    metadata=metadata, \n",
    "    nwbfile_path=output_file, \n",
    "    save_to_file=True,\n",
    "    conversion_options=None\n",
    ")"
   ]
  },
  {
   "cell_type": "markdown",
   "metadata": {},
   "source": [
    "## Final 1 - Check NWB file"
   ]
  },
  {
   "cell_type": "code",
   "execution_count": null,
   "metadata": {
    "scrolled": false
   },
   "outputs": [],
   "source": [
    "# load file\n",
    "fname = 'out_example.nwb'\n",
    "with NWBHDF5IO(fname, 'r') as io:\n",
    "    nwbfile = io.read()\n",
    "    print(nwbfile)"
   ]
  },
  {
   "cell_type": "markdown",
   "metadata": {
    "scrolled": false
   },
   "source": [
    "## Final 2 - Check NWB file with widgets"
   ]
  },
  {
   "cell_type": "code",
   "execution_count": null,
   "metadata": {},
   "outputs": [],
   "source": [
    "io = NWBHDF5IO(fname, 'r')\n",
    "nwbfile = io.read()\n",
    "nwb2widget(nwbfile)"
   ]
  }
 ],
 "metadata": {
  "kernelspec": {
   "display_name": "Python 3.8.5 64-bit ('env_movshon': conda)",
   "language": "python",
   "name": "python38564bitenvmovshonconda86904444310c4a0e8be1c65ba6d14699"
  },
  "language_info": {
   "codemirror_mode": {
    "name": "ipython",
    "version": 3
   },
   "file_extension": ".py",
   "mimetype": "text/x-python",
   "name": "python",
   "nbconvert_exporter": "python",
   "pygments_lexer": "ipython3",
   "version": "3.8.5-final"
  }
 },
 "nbformat": 4,
 "nbformat_minor": 4
}