{
 "cells": [
  {
   "cell_type": "code",
   "execution_count": 1,
   "metadata": {},
   "outputs": [],
   "source": [
    "%load_ext autoreload\n",
    "%autoreload 2\n",
    "%config Completer.use_jedi = False"
   ]
  },
  {
   "cell_type": "markdown",
   "metadata": {},
   "source": [
    "# Movshon lab - SpikeGLX + Expo Converter"
   ]
  },
  {
   "cell_type": "code",
   "execution_count": 2,
   "metadata": {},
   "outputs": [],
   "source": [
    "from movshon_lab_to_nwb import MovshonSpikeglxNWBConverter\n",
    "from pynwb import NWBHDF5IO\n",
    "from nwbwidgets import nwb2widget\n",
    "from pathlib import Path"
   ]
  },
  {
   "cell_type": "code",
   "execution_count": 3,
   "metadata": {
    "scrolled": false
   },
   "outputs": [
    {
     "name": "stdout",
     "output_type": "stream",
     "text": [
      "Source data is valid!\n",
      "Source data is valid!\n",
      "Metadata is valid!\n",
      "conversion_options is valid!\n",
      "Metadata is valid!\n",
      "conversion_options is valid!\n",
      "Adding expo data...\n"
     ]
    },
    {
     "name": "stderr",
     "output_type": "stream",
     "text": [
      "/home/luiz/anaconda3/envs/env_movshon/lib/python3.7/site-packages/pynwb/file.py:753: UserWarning: Date is missing timezone information. Updating to local timezone.\n",
      "  warn(\"Date is missing timezone information. Updating to local timezone.\")\n"
     ]
    },
    {
     "name": "stdout",
     "output_type": "stream",
     "text": [
      "Trials sync offset: 1.3441666666666667\n",
      "NWB file saved at out_example_spikeglx.nwb!\n"
     ]
    }
   ],
   "source": [
    "# Source data\n",
    "base_path = Path('/home/luiz/storage/taufferconsulting/client_ben/project_movshon/movshon_data/expo/exampledata/expo_spikeglx/m676p3l11#1')\n",
    "\n",
    "# Choose raw or filtered electrophys data\n",
    "write_as_lfp = False\n",
    "if write_as_lfp:\n",
    "    spikeglx_file = base_path / 'spikeglx/m676p3l11#1_ori16_g0_t0.imec.lf.bin'\n",
    "else:\n",
    "    spikeglx_file = base_path / 'spikeglx/m676p3l11#1_ori16_g0_t0.imec.ap.bin'\n",
    "\n",
    "# Expo file\n",
    "expo_file = base_path / 'm676p3l11#1[ori16].xml'\n",
    "ttl_file = spikeglx_file\n",
    "\n",
    "source_data = dict(\n",
    "    SpikeGLXRecordingExtractorInterface=dict(file_path=str(spikeglx_file)),\n",
    "    ExpoDataInterface=dict(\n",
    "        expo_file=str(expo_file),\n",
    "        ttl_file=str(ttl_file)\n",
    "    )\n",
    ")\n",
    "\n",
    "# Initialize converter\n",
    "converter = MovshonSpikeglxNWBConverter(source_data=source_data)\n",
    "\n",
    "# Get metadata from source data and modify any values you want\n",
    "metadata = converter.get_metadata()\n",
    "metadata['NWBFile']['session_description'] = 'my example conversion'\n",
    "\n",
    "# Get conversion options and modify any values you want\n",
    "conversion_options = converter.get_conversion_options()\n",
    "conversion_options['SpikeGLXRecordingExtractorInterface'] = dict(stub_test=True)  # Set to True for a quick test with partial data\n",
    "conversion_options['ExpoDataInterface'] = dict(convert_expo=True)\n",
    "\n",
    "# OPTIONAL - Validate source_data, metadata and conversion_options\n",
    "converter.validate_source(source_data)\n",
    "converter.validate_metadata(metadata)\n",
    "converter.validate_conversion_options(conversion_options)\n",
    "\n",
    "# Run conversion\n",
    "output_file = 'out_example_spikeglx.nwb'\n",
    "\n",
    "converter.run_conversion(\n",
    "    metadata=metadata, \n",
    "    nwbfile_path=output_file, \n",
    "    save_to_file=True,\n",
    "    overwrite=True,\n",
    "    conversion_options=conversion_options\n",
    ")"
   ]
  },
  {
   "cell_type": "markdown",
   "metadata": {
    "scrolled": false
   },
   "source": [
    "## Check NWB file with widgets"
   ]
  },
  {
   "cell_type": "code",
   "execution_count": 4,
   "metadata": {},
   "outputs": [
    {
     "data": {
      "application/vnd.jupyter.widget-view+json": {
       "model_id": "a8f7e0b8de65418c8e33eda8b6030614",
       "version_major": 2,
       "version_minor": 0
      },
      "text/plain": [
       "VBox(children=(HBox(children=(Label(value='session_description:', layout=Layout(max_height='40px', max_width='…"
      ]
     },
     "metadata": {},
     "output_type": "display_data"
    }
   ],
   "source": [
    "io = NWBHDF5IO(output_file, 'r')\n",
    "nwbfile = io.read()\n",
    "nwb2widget(nwbfile)"
   ]
  },
  {
   "cell_type": "code",
   "execution_count": null,
   "metadata": {},
   "outputs": [],
   "source": []
  },
  {
   "cell_type": "code",
   "execution_count": 7,
   "metadata": {},
   "outputs": [
    {
     "data": {
      "text/plain": [
       "{'required': [],\n",
       " 'properties': {'SpikeGLXRecordingExtractorInterface': {'required': ['file_path'],\n",
       "   'properties': {'file_path': {'type': 'string',\n",
       "     'format': 'file',\n",
       "     'description': 'Path to SpikeGLX file.'}},\n",
       "   'type': 'object',\n",
       "   'additionalProperties': False},\n",
       "  'ExpoDataInterface': {'required': [],\n",
       "   'properties': {'expo_file': {'type': 'string',\n",
       "     'format': 'file',\n",
       "     'description': 'path to xml file containing expo data'},\n",
       "    'ttl_file': {'type': 'string',\n",
       "     'format': 'file',\n",
       "     'description': 'path to file containing TTL data for synchronization (openephys or spikeglx)'}},\n",
       "   'type': 'object',\n",
       "   'additionalProperties': False}},\n",
       " 'type': 'object',\n",
       " 'additionalProperties': False,\n",
       " '$schema': 'http://json-schema.org/draft-07/schema#',\n",
       " '$id': 'source.schema.json',\n",
       " 'title': 'Source data schema',\n",
       " 'description': 'Schema for the source data, files and directories',\n",
       " 'version': '0.1.0'}"
      ]
     },
     "execution_count": 7,
     "metadata": {},
     "output_type": "execute_result"
    }
   ],
   "source": [
    "converter.get_source_schema()"
   ]
  },
  {
   "cell_type": "code",
   "execution_count": null,
   "metadata": {},
   "outputs": [],
   "source": []
  },
  {
   "cell_type": "code",
   "execution_count": null,
   "metadata": {},
   "outputs": [],
   "source": []
  }
 ],
 "metadata": {
  "kernelspec": {
   "display_name": "Python 3.7.10 64-bit ('env_movshon': conda)",
   "language": "python",
   "name": "python3710jvsc74a57bd06c19ac61565dac34ec9dee5220d86c85d7bb9cb26471bf3e794769e7dfcdf603"
  },
  "language_info": {
   "codemirror_mode": {
    "name": "ipython",
    "version": 3
   },
   "file_extension": ".py",
   "mimetype": "text/x-python",
   "name": "python",
   "nbconvert_exporter": "python",
   "pygments_lexer": "ipython3",
   "version": "3.7.10"
  }
 },
 "nbformat": 4,
 "nbformat_minor": 4
}
