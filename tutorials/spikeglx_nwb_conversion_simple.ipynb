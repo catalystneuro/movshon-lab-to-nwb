{
 "cells": [
  {
   "cell_type": "code",
   "execution_count": null,
   "metadata": {},
   "outputs": [],
   "source": [
    "%load_ext autoreload\n",
    "%autoreload 2\n",
    "%config Completer.use_jedi = False"
   ]
  },
  {
   "cell_type": "markdown",
   "metadata": {},
   "source": [
    "# Movshon lab - SpikeGLX + Expo Converter"
   ]
  },
  {
   "cell_type": "code",
   "execution_count": null,
   "metadata": {},
   "outputs": [],
   "source": [
    "from movshon_lab_to_nwb import MovshonSpikeglxNWBConverter\n",
    "from pynwb import NWBHDF5IO\n",
    "from nwbwidgets import nwb2widget\n",
    "from pathlib import Path"
   ]
  },
  {
   "cell_type": "code",
   "execution_count": null,
   "metadata": {
    "scrolled": false
   },
   "outputs": [],
   "source": [
    "# Source data\n",
    "base_path = Path('/home/luiz/storage/taufferconsulting/client_ben/project_movshon/movshon_data/expo/exampledata/expo_spikeglx/m676p3l11#1')\n",
    "\n",
    "spikeglx_raw = base_path / 'spikeglx/m676p3l11#1_ori16_g0_t0.imec.ap.bin'\n",
    "spikeglx_lfp = base_path / 'spikeglx/m676p3l11#1_ori16_g0_t0.imec.lf.bin'\n",
    "expo_file = base_path / 'm676p3l11#1[ori16].xml'\n",
    "ttl_file = spikeglx_raw\n",
    "\n",
    "source_data = dict(\n",
    "    SpikeGLXRaw=dict(file_path=str(spikeglx_raw)),\n",
    "    SpikeGLXLFP=dict(file_path=str(spikeglx_lfp)),\n",
    "    ExpoDataInterface=dict(\n",
    "        expo_file=str(expo_file),\n",
    "        ttl_file=str(ttl_file)\n",
    "    )\n",
    ")\n",
    "\n",
    "# Initialize converter\n",
    "converter = MovshonSpikeglxNWBConverter(source_data=source_data)\n",
    "\n",
    "# Get metadata from source data and modify any values you want\n",
    "metadata = converter.get_metadata()\n",
    "metadata['NWBFile']['session_description'] = 'my example conversion'\n",
    "\n",
    "# Get conversion options and modify any values you want\n",
    "conversion_options = converter.get_conversion_options()\n",
    "# conversion_options['SpikeGLXRaw'] = dict(stub_test=True)  # Set to True for a quick test with partial data\n",
    "# conversion_options['SpikeGLXLFP'] = dict(stub_test=True)\n",
    "\n",
    "# OPTIONAL - Validate source_data, metadata and conversion_options\n",
    "converter.validate_source(source_data)\n",
    "converter.validate_metadata(metadata)\n",
    "converter.validate_conversion_options(conversion_options)\n",
    "\n",
    "# Run conversion\n",
    "output_file = 'out_example_spikeglx.nwb'\n",
    "\n",
    "converter.run_conversion(\n",
    "    metadata=metadata, \n",
    "    nwbfile_path=output_file, \n",
    "    save_to_file=True,\n",
    "    overwrite=True,\n",
    "    conversion_options=conversion_options\n",
    ")"
   ]
  },
  {
   "cell_type": "markdown",
   "metadata": {
    "scrolled": false
   },
   "source": [
    "## Check NWB file with widgets"
   ]
  },
  {
   "cell_type": "code",
   "execution_count": null,
   "metadata": {},
   "outputs": [],
   "source": [
    "io = NWBHDF5IO(output_file, 'r')\n",
    "nwbfile = io.read()\n",
    "nwb2widget(nwbfile)"
   ]
  }
 ],
 "metadata": {
  "kernelspec": {
   "display_name": "Python 3.7.10 64-bit ('env_movshon': conda)",
   "language": "python",
   "name": "python3710jvsc74a57bd06c19ac61565dac34ec9dee5220d86c85d7bb9cb26471bf3e794769e7dfcdf603"
  },
  "language_info": {
   "codemirror_mode": {
    "name": "ipython",
    "version": 3
   },
   "file_extension": ".py",
   "mimetype": "text/x-python",
   "name": "python",
   "nbconvert_exporter": "python",
   "pygments_lexer": "ipython3",
   "version": "3.7.10"
  }
 },
 "nbformat": 4,
 "nbformat_minor": 4
}
