{
 "cells": [
  {
   "cell_type": "code",
   "execution_count": 1,
   "metadata": {},
   "outputs": [],
   "source": [
    "%load_ext autoreload\n",
    "%autoreload 2\n",
    "%config Completer.use_jedi = False"
   ]
  },
  {
   "cell_type": "markdown",
   "metadata": {},
   "source": [
    "# Movshon lab - SpikeGLX + Expo Converter"
   ]
  },
  {
   "cell_type": "code",
   "execution_count": 2,
   "metadata": {},
   "outputs": [],
   "source": [
    "from movshon_lab_to_nwb import MovshonSpikeglxNWBConverter\n",
    "from pynwb import NWBHDF5IO\n",
    "from nwbwidgets import nwb2widget\n",
    "from pathlib import Path"
   ]
  },
  {
   "cell_type": "code",
   "execution_count": 3,
   "metadata": {},
   "outputs": [
    {
     "name": "stdout",
     "output_type": "stream",
     "text": [
      "Adding expo data...\n",
      "Trials sync offset: 1.3441666666666667\n",
      "NWB file saved at out_example.nwb!\n"
     ]
    }
   ],
   "source": [
    "# Source data\n",
    "base_path = Path('/home/luiz/storage/taufferconsulting/client_ben/project_movshon/movshon_data/expo/exampledata/expo_spikeglx/m676p3l11#1')\n",
    "\n",
    "# Choose raw or filtered electrophys data\n",
    "write_as_lfp = False\n",
    "if write_as_lfp:\n",
    "    spikeglx_file = base_path / 'spikeglx/m676p3l11#1_ori16_g0_t0.imec.lf.bin'\n",
    "else:\n",
    "    spikeglx_file = base_path / 'spikeglx/m676p3l11#1_ori16_g0_t0.imec.ap.bin'\n",
    "\n",
    "# Expo file\n",
    "expo_file = base_path / 'm676p3l11#1[ori16].xml'\n",
    "ttl_file = spikeglx_file\n",
    "\n",
    "source_data = dict(\n",
    "    SpikeGLXRecordingExtractorInterface=dict(\n",
    "        file_path=str(spikeglx_file),\n",
    "        stub_test=False  # Set to True for a quick test with partial data\n",
    "    ),\n",
    "    ExpoDataInterface=dict(\n",
    "        expo_file=str(expo_file),\n",
    "        ttl_file=str(ttl_file)\n",
    "    )\n",
    ")\n",
    "\n",
    "# Initialize converter\n",
    "converter = MovshonSpikeglxNWBConverter(source_data=source_data)\n",
    "\n",
    "# Get metadata from source data\n",
    "metadata = converter.get_metadata()\n",
    "\n",
    "# User-input metadata\n",
    "metadata['NWBFile']['session_description'] = 'example conversion'\n",
    "\n",
    "# Conversion options\n",
    "conversion_options = dict(\n",
    "    SpikeGLXRecordingExtractorInterface=dict(\n",
    "        write_as_lfp=write_as_lfp\n",
    "    ),\n",
    "    ExpoDataInterface=dict(\n",
    "        convert_expo=True\n",
    "    )\n",
    ")\n",
    "\n",
    "# Run conversion\n",
    "output_file = 'out_example.nwb'\n",
    "\n",
    "converter.run_conversion(\n",
    "    metadata=metadata, \n",
    "    nwbfile_path=output_file, \n",
    "    save_to_file=True,\n",
    "    overwrite=True,\n",
    "    conversion_options=conversion_options\n",
    ")"
   ]
  },
  {
   "cell_type": "markdown",
   "metadata": {
    "scrolled": false
   },
   "source": [
    "## Check NWB file with widgets"
   ]
  },
  {
   "cell_type": "code",
   "execution_count": 4,
   "metadata": {},
   "outputs": [
    {
     "data": {
      "application/vnd.jupyter.widget-view+json": {
       "model_id": "3706188264854b4b9a4d84a6f9ba4fdd",
       "version_major": 2,
       "version_minor": 0
      },
      "text/plain": [
       "VBox(children=(HBox(children=(Label(value='session_description:', layout=Layout(max_height='40px', max_width='…"
      ]
     },
     "metadata": {},
     "output_type": "display_data"
    }
   ],
   "source": [
    "io = NWBHDF5IO(output_file, 'r')\n",
    "nwbfile = io.read()\n",
    "nwb2widget(nwbfile)"
   ]
  },
  {
   "cell_type": "code",
   "execution_count": null,
   "metadata": {},
   "outputs": [],
   "source": []
  }
 ],
 "metadata": {
  "kernelspec": {
   "display_name": "Python [conda env:env_klusta] *",
   "language": "python",
   "name": "conda-env-env_klusta-py"
  },
  "language_info": {
   "codemirror_mode": {
    "name": "ipython",
    "version": 3
   },
   "file_extension": ".py",
   "mimetype": "text/x-python",
   "name": "python",
   "nbconvert_exporter": "python",
   "pygments_lexer": "ipython3",
   "version": "3.7.10"
  }
 },
 "nbformat": 4,
 "nbformat_minor": 4
}
