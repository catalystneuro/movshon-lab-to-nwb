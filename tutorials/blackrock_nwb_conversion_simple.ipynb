{
 "cells": [
  {
   "cell_type": "code",
   "execution_count": 1,
   "metadata": {},
   "outputs": [],
   "source": [
    "%load_ext autoreload\n",
    "%autoreload 2\n",
    "%config Completer.use_jedi = False"
   ]
  },
  {
   "cell_type": "markdown",
   "metadata": {},
   "source": [
    "# Movshon lab - Blackrock Converter"
   ]
  },
  {
   "cell_type": "code",
   "execution_count": 2,
   "metadata": {},
   "outputs": [],
   "source": [
    "from movshon_lab_to_nwb import MovshonBlackrockNWBConverter\n",
    "from pynwb import NWBFile, NWBHDF5IO\n",
    "from nwbwidgets import nwb2widget\n",
    "from pathlib import Path\n",
    "import yaml\n",
    "import pprint"
   ]
  },
  {
   "cell_type": "code",
   "execution_count": 3,
   "metadata": {},
   "outputs": [
    {
     "name": "stdout",
     "output_type": "stream",
     "text": [
      "Converting Blackrock raw traces...\n"
     ]
    },
    {
     "name": "stderr",
     "output_type": "stream",
     "text": [
      "/home/luiz/anaconda3/envs/env_movshon/lib/python3.7/site-packages/hdmf/common/table.py:415: UserWarning: An attribute 'name' already exists on DynamicTable 'electrodes' so this column cannot be accessed as an attribute, e.g., table.name; it can only be accessed using other methods, e.g., table['name'].\n",
      "  warn(msg)\n"
     ]
    },
    {
     "name": "stdout",
     "output_type": "stream",
     "text": [
      "Converting Blackrock processed traces...\n",
      "NWB file saved at out_example.nwb!\n"
     ]
    }
   ],
   "source": [
    "# Source data\n",
    "base_path = Path('/home/luiz/storage/taufferconsulting/client_ben/project_movshon/data_blackrock/')\n",
    "file_recording_raw = str(base_path / 'XX_LE_textures_20191128_002.ns6')\n",
    "file_recording_processed = str(base_path / 'XX_LE_textures_20191128_002.ns3')\n",
    "file_sorting = str(base_path / 'XX_LE_textures_20191128_002.nev')\n",
    "\n",
    "source_data = dict(\n",
    "    BlackrockRecordingInterfaceRaw=dict(filename=file_recording_raw),\n",
    "    BlackrockRecordingInterfaceProcessed=dict(filename=file_recording_processed),\n",
    "    BlackrockSortingExtractorInterface=dict(\n",
    "        filename=file_sorting,\n",
    "        nsx_to_load=6\n",
    "    )\n",
    ")\n",
    "\n",
    "# Initialize converter\n",
    "converter = MovshonBlackrockNWBConverter(source_data=source_data)\n",
    "\n",
    "# Get metadata from source data\n",
    "metadata = converter.get_metadata()\n",
    "\n",
    "# User-input metadata\n",
    "metadata['NWBFile']['session_description'] = 'example conversion'\n",
    "metadata['Ecephys']['es_raw'] = dict(\n",
    "    name='raw_traces',\n",
    "    description='those are the raw traces'\n",
    ")\n",
    "metadata['Ecephys']['es_processed'] = dict(\n",
    "    name='processed_traces',\n",
    "    description='those are the processed traces'\n",
    ")\n",
    "\n",
    "# Conversion options\n",
    "conversion_options = dict(\n",
    "    BlackrockRecordingInterfaceRaw=dict(stub_test=False, write_as='raw', es_key='es_raw'),\n",
    "    BlackrockRecordingInterfaceProcessed=dict(stub_test=False, write_as='processed', es_key='es_processed'),\n",
    ")\n",
    "\n",
    "# Run conversion\n",
    "output_file = 'out_example.nwb'\n",
    "\n",
    "converter.run_conversion(\n",
    "    metadata=metadata, \n",
    "    nwbfile_path=output_file, \n",
    "    save_to_file=True,\n",
    "    conversion_options=conversion_options\n",
    ")"
   ]
  },
  {
   "cell_type": "markdown",
   "metadata": {},
   "source": [
    "## Check NWB file with widgets"
   ]
  },
  {
   "cell_type": "code",
   "execution_count": 4,
   "metadata": {
    "scrolled": false
   },
   "outputs": [
    {
     "data": {
      "application/vnd.jupyter.widget-view+json": {
       "model_id": "c337f360e46e47fab7f15d914eb1bd00",
       "version_major": 2,
       "version_minor": 0
      },
      "text/plain": [
       "VBox(children=(HBox(children=(Label(value='session_description:', layout=Layout(max_height='40px', max_width='…"
      ]
     },
     "metadata": {},
     "output_type": "display_data"
    }
   ],
   "source": [
    "# load file\n",
    "fname = 'out_example.nwb'\n",
    "\n",
    "io = NWBHDF5IO(fname, 'r')\n",
    "nwbfile = io.read()\n",
    "nwb2widget(nwbfile)"
   ]
  },
  {
   "cell_type": "code",
   "execution_count": null,
   "metadata": {},
   "outputs": [],
   "source": []
  },
  {
   "cell_type": "code",
   "execution_count": null,
   "metadata": {},
   "outputs": [],
   "source": []
  }
 ],
 "metadata": {
  "kernelspec": {
   "display_name": "Python 3.8.5 64-bit ('env_movshon': conda)",
   "language": "python",
   "name": "python38564bitenvmovshonconda86904444310c4a0e8be1c65ba6d14699"
  },
  "language_info": {
   "codemirror_mode": {
    "name": "ipython",
    "version": 3
   },
   "file_extension": ".py",
   "mimetype": "text/x-python",
   "name": "python",
   "nbconvert_exporter": "python",
   "pygments_lexer": "ipython3",
   "version": "3.7.10"
  }
 },
 "nbformat": 4,
 "nbformat_minor": 4
}
