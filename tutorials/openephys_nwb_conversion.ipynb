{
 "cells": [
  {
   "cell_type": "code",
   "execution_count": 1,
   "metadata": {},
   "outputs": [],
   "source": [
    "%load_ext autoreload\n",
    "%autoreload 2\n",
    "%config Completer.use_jedi = False"
   ]
  },
  {
   "cell_type": "markdown",
   "metadata": {},
   "source": [
    "# Movshon lab - OpenEphys + Expo Converter\n",
    "This tutorial follows the step-by-step guide for a [NWB Converter](https://github.com/catalystneuro/nwb-conversion-tools/blob/master/documentation/conversion_tools_structure.md#step-by-step-operations)"
   ]
  },
  {
   "cell_type": "code",
   "execution_count": 2,
   "metadata": {},
   "outputs": [],
   "source": [
    "from movshon_lab_to_nwb import MovshonOpenEphysNWBConverter\n",
    "from pynwb import NWBFile, NWBHDF5IO\n",
    "from nwbwidgets import nwb2widget\n",
    "from pathlib import Path\n",
    "import yaml\n",
    "import pprint"
   ]
  },
  {
   "cell_type": "markdown",
   "metadata": {},
   "source": [
    "## Step 1 - Converter.get_source_schema()"
   ]
  },
  {
   "cell_type": "code",
   "execution_count": 3,
   "metadata": {},
   "outputs": [
    {
     "name": "stdout",
     "output_type": "stream",
     "text": [
      "{'ExpoDataInterface': {'additionalProperties': False,\n",
      "                       'properties': {'expo_file': {'description': 'path to xml file containing expo data',\n",
      "                                                    'format': 'file',\n",
      "                                                    'type': 'string'}},\n",
      "                       'required': [],\n",
      "                       'type': 'object'},\n",
      " 'OpenEphysRecordingExtractorInterface': {'additionalProperties': False,\n",
      "                                          'properties': {'folder_path': {'description': 'Path to directory containing '\n",
      "                                                                                        'OpenEphys files.',\n",
      "                                                                         'format': 'directory',\n",
      "                                                                         'type': 'string'}},\n",
      "                                          'required': ['folder_path'],\n",
      "                                          'type': 'object'}}\n"
     ]
    }
   ],
   "source": [
    "# Get source_schema\n",
    "source_schema = MovshonOpenEphysNWBConverter.get_source_schema()\n",
    "pprint.pprint(source_schema['properties'], width=120)"
   ]
  },
  {
   "cell_type": "markdown",
   "metadata": {},
   "source": [
    "## Step 2 - Get user-input source_data that complies to the returned full source_schema"
   ]
  },
  {
   "cell_type": "code",
   "execution_count": 4,
   "metadata": {},
   "outputs": [
    {
     "name": "stdout",
     "output_type": "stream",
     "text": [
      "{'ExpoDataInterface': {'expo_file': '/home/luiz/storage/taufferconsulting/client_ben/project_movshon/movshon_data/expo/exampledata/expo_openephys/m666l3#7/m666l3#7[ori16].xml'},\n",
      " 'OpenEphysRecordingExtractorInterface': {'folder_path': '/home/luiz/storage/taufferconsulting/client_ben/project_movshon/movshon_data/expo/exampledata/expo_openephys/m666l3#7/openephys'}}\n"
     ]
    }
   ],
   "source": [
    "# Source data\n",
    "base_path = Path('/home/luiz/storage/taufferconsulting/client_ben/project_movshon/movshon_data/expo/exampledata/expo_openephys/m666l3#7')\n",
    "\n",
    "# oephys_path = Path('/home/luiz/storage/taufferconsulting/client_ben/project_movshon/movshon_data/oephys/')\n",
    "oephys_dir = base_path / 'openephys/'\n",
    "expo_file = base_path / 'm666l3#7[ori16].xml'\n",
    "\n",
    "source_data = dict(\n",
    "    OpenEphysRecordingExtractorInterface=dict(\n",
    "        folder_path=str(oephys_dir),\n",
    "    ),\n",
    "    ExpoDataInterface=dict(\n",
    "        expo_file=str(expo_file)\n",
    "    )\n",
    ")\n",
    "\n",
    "pprint.pprint(source_data, width=120)"
   ]
  },
  {
   "cell_type": "markdown",
   "metadata": {},
   "source": [
    "## Step 3 - Instantiate Converter"
   ]
  },
  {
   "cell_type": "code",
   "execution_count": 5,
   "metadata": {},
   "outputs": [
    {
     "name": "stdout",
     "output_type": "stream",
     "text": [
      "Loading Open-Ephys: reading settings...\n",
      "Decoding data from  openephys  format\n",
      "Data interfaces for this converter:\n",
      "{'ExpoDataInterface': <movshon_lab_to_nwb.expodatainterface.ExpoDataInterface object at 0x7fe5f49b4be0>,\n",
      " 'OpenEphysRecordingExtractorInterface': <nwb_conversion_tools.datainterfaces.openephysdatainterface.OpenEphysRecordingExtractorInterface object at 0x7fe6090c9048>}\n"
     ]
    }
   ],
   "source": [
    "# Initialize converter\n",
    "converter = MovshonOpenEphysNWBConverter(source_data=source_data)\n",
    "\n",
    "print('Data interfaces for this converter:')\n",
    "pprint.pprint(converter.data_interface_objects, width=120)"
   ]
  },
  {
   "cell_type": "markdown",
   "metadata": {},
   "source": [
    "## Step 4 - Converter.get_metadata_schema()"
   ]
  },
  {
   "cell_type": "code",
   "execution_count": 6,
   "metadata": {
    "scrolled": false
   },
   "outputs": [
    {
     "name": "stdout",
     "output_type": "stream",
     "text": [
      "{'$id': 'metadata.schema.json',\n",
      " '$schema': 'http://json-schema.org/draft-07/schema#',\n",
      " 'additionalProperties': False,\n",
      " 'description': 'Schema for the metadata',\n",
      " 'properties': {'Ecephys': {'Device': {'additionalProperties': False,\n",
      "                                       'properties': {'description': {'description': 'Description of the device (e.g., '\n",
      "                                                                                     'model, firmware version, '\n",
      "                                                                                     'processing software version, '\n",
      "                                                                                     'etc.)',\n",
      "                                                                      'type': 'string'},\n",
      "                                                      'manufacturer': {'description': 'the name of the manufacturer of '\n",
      "                                                                                      'this device',\n",
      "                                                                       'type': 'string'},\n",
      "                                                      'name': {'description': 'the name of this device',\n",
      "                                                               'type': 'string'}},\n",
      "                                       'required': ['name'],\n",
      "                                       'tag': 'pynwb.device.Device',\n",
      "                                       'type': 'object'},\n",
      "                            'ElectricalSeries': {'additionalProperties': False,\n",
      "                                                 'properties': {'comments': {'default': 'no comments',\n",
      "                                                                             'description': 'Human-readable comments '\n",
      "                                                                                            'about this TimeSeries '\n",
      "                                                                                            'dataset',\n",
      "                                                                             'type': 'string'},\n",
      "                                                                'conversion': {'default': 1.0,\n",
      "                                                                               'description': 'Scalar to multiply each '\n",
      "                                                                                              'element in data to '\n",
      "                                                                                              'convert it to the '\n",
      "                                                                                              'specified unit',\n",
      "                                                                               'type': 'number'},\n",
      "                                                                'description': {'default': 'no description',\n",
      "                                                                                'description': 'Description of this '\n",
      "                                                                                               'TimeSeries dataset',\n",
      "                                                                                'type': 'string'},\n",
      "                                                                'name': {'description': 'The name of this TimeSeries '\n",
      "                                                                                        'dataset',\n",
      "                                                                         'type': 'string'},\n",
      "                                                                'rate': {'description': 'Sampling rate in Hz',\n",
      "                                                                         'type': 'number'},\n",
      "                                                                'resolution': {'default': -1.0,\n",
      "                                                                               'description': 'The smallest meaningful '\n",
      "                                                                                              'difference (in '\n",
      "                                                                                              'specified unit) between '\n",
      "                                                                                              'values in data',\n",
      "                                                                               'type': 'number'},\n",
      "                                                                'starting_time': {'description': 'The timestamp of the '\n",
      "                                                                                                 'first sample',\n",
      "                                                                                  'type': 'number'}},\n",
      "                                                 'required': ['name'],\n",
      "                                                 'tag': 'pynwb.ecephys.ElectricalSeries',\n",
      "                                                 'type': 'object'},\n",
      "                            'ElectrodeGroup': {'additionalProperties': False,\n",
      "                                               'properties': {'description': {'description': 'description of this '\n",
      "                                                                                             'electrode group',\n",
      "                                                                              'type': 'string'},\n",
      "                                                              'device': {'description': 'the device that was used to '\n",
      "                                                                                        'record from this electrode '\n",
      "                                                                                        'group',\n",
      "                                                                         'target': 'pynwb.device.Device',\n",
      "                                                                         'type': 'string'},\n",
      "                                                              'location': {'description': 'description of location of '\n",
      "                                                                                          'this electrode group',\n",
      "                                                                           'type': 'string'},\n",
      "                                                              'name': {'description': 'the name of this electrode',\n",
      "                                                                       'type': 'string'}},\n",
      "                                               'required': ['device', 'description', 'location', 'name'],\n",
      "                                               'tag': 'pynwb.ecephys.ElectrodeGroup',\n",
      "                                               'type': 'object'},\n",
      "                            'required': ['Device', 'ElectricalSeries', 'ElectrodeGroup']},\n",
      "                'NWBFile': {'additionalProperties': False,\n",
      "                            'properties': {'data_collection': {'description': 'Notes about data collection and '\n",
      "                                                                              'analysis.',\n",
      "                                                               'type': 'string'},\n",
      "                                           'experiment_description': {'description': 'general description of the '\n",
      "                                                                                     'experiment',\n",
      "                                                                      'type': 'string'},\n",
      "                                           'experimenter': {'description': 'name of person who performed experiment',\n",
      "                                                            'items': {'title': 'experimenter', 'type': 'string'},\n",
      "                                                            'type': 'array'},\n",
      "                                           'identifier': {'description': 'a unique text identifier for the file',\n",
      "                                                          'type': 'string'},\n",
      "                                           'institution': {'description': 'institution(s) where experiment is '\n",
      "                                                                          'performed',\n",
      "                                                           'type': 'string'},\n",
      "                                           'lab': {'description': 'lab where experiment was performed',\n",
      "                                                   'type': 'string'},\n",
      "                                           'notes': {'description': 'Notes about the experiment.', 'type': 'string'},\n",
      "                                           'pharmacology': {'description': 'Description of drugs used, including how '\n",
      "                                                                           'and when they were administered. '\n",
      "                                                                           'Anesthesia(s), painkiller(s), etc., plus '\n",
      "                                                                           'dosage, concentration, etc.',\n",
      "                                                            'type': 'string'},\n",
      "                                           'protocol': {'description': 'Experimental protocol, if applicable. E.g., '\n",
      "                                                                       'include IACUC protocol',\n",
      "                                                        'type': 'string'},\n",
      "                                           'related_publications': {'description': 'Publication information.PMID, DOI, '\n",
      "                                                                                   'URL, etc. If multiple, concatenate '\n",
      "                                                                                   'together and describe which is '\n",
      "                                                                                   'which. such as PMID, DOI, URL, etc',\n",
      "                                                                    'type': 'string'},\n",
      "                                           'session_description': {'description': 'a description of the session where '\n",
      "                                                                                  'this data was generated',\n",
      "                                                                   'format': 'long',\n",
      "                                                                   'type': 'string'},\n",
      "                                           'session_id': {'description': 'lab-specific ID for the session',\n",
      "                                                          'type': 'string'},\n",
      "                                           'session_start_time': {'description': 'the start date and time of the '\n",
      "                                                                                 'recording session',\n",
      "                                                                  'format': 'date-time',\n",
      "                                                                  'type': 'string'},\n",
      "                                           'slices': {'description': 'Description of slices, including information '\n",
      "                                                                     'about preparation thickness, orientation, '\n",
      "                                                                     'temperature and bath solution',\n",
      "                                                      'type': 'string'},\n",
      "                                           'source_script': {'description': 'Script file used to create this NWB file.',\n",
      "                                                             'type': 'string'},\n",
      "                                           'source_script_file_name': {'description': 'Name of the source_script file',\n",
      "                                                                       'type': 'string'},\n",
      "                                           'stimulus_notes': {'description': 'Notes about stimuli, such as how and '\n",
      "                                                                             'where presented.',\n",
      "                                                              'type': 'string'},\n",
      "                                           'surgery': {'description': 'Narrative description about surgery/surgeries, '\n",
      "                                                                      'including date(s) and who performed surgery.',\n",
      "                                                       'type': 'string'},\n",
      "                                           'virus': {'description': 'Information about virus(es) used in experiments, '\n",
      "                                                                    'including virus ID, source, date made, injection '\n",
      "                                                                    'location, volume, etc.',\n",
      "                                                     'type': 'string'}},\n",
      "                            'required': ['session_description', 'identifier', 'session_start_time'],\n",
      "                            'tag': 'pynwb.file.NWBFile',\n",
      "                            'type': 'object'},\n",
      "                'Subject': {'additionalProperties': False,\n",
      "                            'properties': {'age': {'description': 'the age of the subject', 'type': 'string'},\n",
      "                                           'date_of_birth': {'description': 'datetime of date of birth. May be '\n",
      "                                                                            'supplied instead of age.',\n",
      "                                                             'format': 'date-time',\n",
      "                                                             'type': 'string'},\n",
      "                                           'description': {'description': 'a description of the subject',\n",
      "                                                           'type': 'string'},\n",
      "                                           'genotype': {'description': 'the genotype of the subject', 'type': 'string'},\n",
      "                                           'sex': {'description': 'the sex of the subject', 'type': 'string'},\n",
      "                                           'species': {'description': 'the species of the subject', 'type': 'string'},\n",
      "                                           'subject_id': {'description': 'a unique identifier for the subject',\n",
      "                                                          'type': 'string'},\n",
      "                                           'weight': {'description': 'the weight of the subject', 'type': 'string'}},\n",
      "                            'required': [],\n",
      "                            'tag': 'pynwb.file.Subject',\n",
      "                            'type': 'object'}},\n",
      " 'required': ['NWBFile'],\n",
      " 'title': 'Metadata',\n",
      " 'type': 'object',\n",
      " 'version': '0.1.0'}\n"
     ]
    }
   ],
   "source": [
    "# Get metadata_schema\n",
    "metadata_schema = converter.get_metadata_schema()\n",
    "pprint.pprint(metadata_schema, width=120)"
   ]
  },
  {
   "cell_type": "markdown",
   "metadata": {},
   "source": [
    "## Step 5 - Automatically fetches available metadata with Converter.get_metadata()"
   ]
  },
  {
   "cell_type": "code",
   "execution_count": 7,
   "metadata": {},
   "outputs": [
    {
     "name": "stdout",
     "output_type": "stream",
     "text": [
      "{'Ecephys': {'Device': [{'description': 'no description', 'name': 'Rhythm FPGA'}], 'ElectrodeGroup': []},\n",
      " 'NWBFile': {'identifier': 'f9b8ea1a-7784-11eb-be97-dd052e142a77',\n",
      "             'session_description': 'no description',\n",
      "             'session_start_time': datetime.datetime(2017, 8, 7, 21, 31, 32, tzinfo=<StaticTzInfo 'EST'>)}}\n"
     ]
    }
   ],
   "source": [
    "# Get metadata from source data\n",
    "metadata = converter.get_metadata()\n",
    "pprint.pprint(metadata, width=120)"
   ]
  },
  {
   "cell_type": "markdown",
   "metadata": {},
   "source": [
    "## Step 6 - Get user-input metadata"
   ]
  },
  {
   "cell_type": "code",
   "execution_count": 8,
   "metadata": {},
   "outputs": [
    {
     "name": "stdout",
     "output_type": "stream",
     "text": [
      "{'Ecephys': {'Device': [{'description': 'no description', 'name': 'Rhythm FPGA'}], 'ElectrodeGroup': []},\n",
      " 'NWBFile': {'identifier': 'f9b8ea1a-7784-11eb-be97-dd052e142a77',\n",
      "             'session_description': 'example conversion',\n",
      "             'session_start_time': datetime.datetime(2017, 8, 7, 21, 31, 32, tzinfo=<StaticTzInfo 'EST'>)}}\n"
     ]
    }
   ],
   "source": [
    "metadata['NWBFile']['session_description'] = 'example conversion'\n",
    "pprint.pprint(metadata, width=120)"
   ]
  },
  {
   "cell_type": "markdown",
   "metadata": {},
   "source": [
    "## Step 7 - Converter.get_conversion_options_schema()"
   ]
  },
  {
   "cell_type": "code",
   "execution_count": 9,
   "metadata": {},
   "outputs": [
    {
     "name": "stdout",
     "output_type": "stream",
     "text": [
      "Conversion options for each data interface: \n",
      "\n",
      "{'ExpoDataInterface': {'additionalProperties': False,\n",
      "                       'properties': {'convert_expo': {'description': 'Whether to convert Expo data to NWB or not',\n",
      "                                                       'type': 'boolean'}},\n",
      "                       'required': [],\n",
      "                       'type': 'object'},\n",
      " 'OpenEphysRecordingExtractorInterface': {'additionalProperties': False,\n",
      "                                          'properties': {'overwrite': {'default': False, 'type': 'boolean'},\n",
      "                                                         'save_path': {'type': 'string'},\n",
      "                                                         'stub_test': {'default': False, 'type': 'boolean'},\n",
      "                                                         'use_timestamps': {'default': False, 'type': 'boolean'},\n",
      "                                                         'write_as_lfp': {'default': False, 'type': 'boolean'}},\n",
      "                                          'required': [],\n",
      "                                          'type': 'object'}}\n"
     ]
    }
   ],
   "source": [
    "conversion_options_schema = converter.get_conversion_options_schema()\n",
    "\n",
    "print('Conversion options for each data interface: \\n')\n",
    "pprint.pprint(conversion_options_schema['properties'], width=120)"
   ]
  },
  {
   "cell_type": "markdown",
   "metadata": {},
   "source": [
    "## Step 8 - Get user-input conversion options"
   ]
  },
  {
   "cell_type": "code",
   "execution_count": 10,
   "metadata": {},
   "outputs": [],
   "source": [
    "conversion_options = dict(\n",
    "    OpenEphysRecordingExtractorInterface=dict(write_as_lfp=False),\n",
    "    ExpoDataInterface=dict(convert_expo=True)\n",
    ")"
   ]
  },
  {
   "cell_type": "markdown",
   "metadata": {},
   "source": [
    "## Step 9 - Run conversion user filled metadata and conversion_options"
   ]
  },
  {
   "cell_type": "code",
   "execution_count": 11,
   "metadata": {},
   "outputs": [
    {
     "name": "stdout",
     "output_type": "stream",
     "text": [
      "Adding expo data...\n",
      "NWB file saved at out_example.nwb!\n"
     ]
    }
   ],
   "source": [
    "output_file = 'out_example.nwb'\n",
    "\n",
    "converter.run_conversion(\n",
    "    metadata=metadata, \n",
    "    nwbfile_path=output_file, \n",
    "    save_to_file=True,\n",
    "    conversion_options=conversion_options\n",
    ")"
   ]
  },
  {
   "cell_type": "markdown",
   "metadata": {},
   "source": [
    "## Final 1 - Check NWB file"
   ]
  },
  {
   "cell_type": "code",
   "execution_count": 12,
   "metadata": {
    "scrolled": false
   },
   "outputs": [
    {
     "name": "stdout",
     "output_type": "stream",
     "text": [
      "root pynwb.file.NWBFile at 0x140625628296920\n",
      "Fields:\n",
      "  acquisition: {\n",
      "    ElectricalSeries <class 'pynwb.ecephys.ElectricalSeries'>\n",
      "  }\n",
      "  devices: {\n",
      "    Device <class 'pynwb.device.Device'>\n",
      "  }\n",
      "  electrode_groups: {\n",
      "    0 <class 'pynwb.ecephys.ElectrodeGroup'>\n",
      "  }\n",
      "  electrodes: electrodes <class 'hdmf.common.table.DynamicTable'>\n",
      "  file_create_date: [datetime.datetime(2021, 2, 25, 17, 17, 37, 602780, tzinfo=tzoffset(None, 3600))]\n",
      "  identifier: f9b8ea1a-7784-11eb-be97-dd052e142a77\n",
      "  intervals: {\n",
      "    trials <class 'pynwb.epoch.TimeIntervals'>\n",
      "  }\n",
      "  session_description: example conversion\n",
      "  session_start_time: 2017-08-07 21:31:32-05:00\n",
      "  timestamps_reference_time: 2017-08-07 21:31:32-05:00\n",
      "  trials: trials <class 'pynwb.epoch.TimeIntervals'>\n",
      "\n"
     ]
    }
   ],
   "source": [
    "# load file\n",
    "fname = 'out_example.nwb'\n",
    "with NWBHDF5IO(fname, 'r') as io:\n",
    "    nwbfile = io.read()\n",
    "    print(nwbfile)"
   ]
  },
  {
   "cell_type": "markdown",
   "metadata": {
    "scrolled": false
   },
   "source": [
    "## Final 2 - Check NWB file with widgets"
   ]
  },
  {
   "cell_type": "code",
   "execution_count": 13,
   "metadata": {},
   "outputs": [
    {
     "data": {
      "application/vnd.jupyter.widget-view+json": {
       "model_id": "142aefa29cc94b368d3e548c5b8b8231",
       "version_major": 2,
       "version_minor": 0
      },
      "text/plain": [
       "VBox(children=(HBox(children=(Label(value='session_description:', layout=Layout(max_height='40px', max_width='…"
      ]
     },
     "metadata": {},
     "output_type": "display_data"
    }
   ],
   "source": [
    "io = NWBHDF5IO(fname, 'r')\n",
    "nwbfile = io.read()\n",
    "nwb2widget(nwbfile)"
   ]
  },
  {
   "cell_type": "code",
   "execution_count": null,
   "metadata": {},
   "outputs": [],
   "source": []
  },
  {
   "cell_type": "code",
   "execution_count": null,
   "metadata": {},
   "outputs": [],
   "source": []
  },
  {
   "cell_type": "code",
   "execution_count": null,
   "metadata": {},
   "outputs": [],
   "source": []
  },
  {
   "cell_type": "code",
   "execution_count": null,
   "metadata": {},
   "outputs": [],
   "source": []
  }
 ],
 "metadata": {
  "kernelspec": {
   "display_name": "Python 3.6.12 64-bit ('env_klusta': conda)",
   "language": "python",
   "name": "python361264bitenvklustaconda547e2c711ff048128525ba091e3078eb"
  },
  "language_info": {
   "codemirror_mode": {
    "name": "ipython",
    "version": 3
   },
   "file_extension": ".py",
   "mimetype": "text/x-python",
   "name": "python",
   "nbconvert_exporter": "python",
   "pygments_lexer": "ipython3",
   "version": "3.6.12"
  }
 },
 "nbformat": 4,
 "nbformat_minor": 4
}
