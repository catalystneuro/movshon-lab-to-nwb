{
 "cells": [
  {
   "cell_type": "code",
   "execution_count": 1,
   "metadata": {},
   "outputs": [],
   "source": [
    "%load_ext autoreload\n",
    "%autoreload 2\n",
    "%config Completer.use_jedi = False"
   ]
  },
  {
   "cell_type": "markdown",
   "metadata": {},
   "source": [
    "# Movshon lab - OpenEphys + Expo Converter"
   ]
  },
  {
   "cell_type": "code",
   "execution_count": 2,
   "metadata": {},
   "outputs": [],
   "source": [
    "from movshon_lab_to_nwb import MovshonOpenEphysNWBConverter\n",
    "from pynwb import NWBHDF5IO\n",
    "from nwbwidgets import nwb2widget\n",
    "from pathlib import Path"
   ]
  },
  {
   "cell_type": "code",
   "execution_count": 3,
   "metadata": {
    "scrolled": false
   },
   "outputs": [
    {
     "name": "stdout",
     "output_type": "stream",
     "text": [
      "Source data is valid!\n",
      "Loading Open-Ephys: reading settings...\n",
      "Decoding data from  openephys  format\n",
      "Source data is valid!\n",
      "Metadata is valid!\n",
      "conversion_options is valid!\n",
      "conversion_options is valid!\n",
      "Adding expo data...\n"
     ]
    },
    {
     "name": "stderr",
     "output_type": "stream",
     "text": [
      "/home/luiz/anaconda3/envs/env_movshon/lib/python3.7/site-packages/pynwb/file.py:753: UserWarning: Date is missing timezone information. Updating to local timezone.\n",
      "  warn(\"Date is missing timezone information. Updating to local timezone.\")\n"
     ]
    },
    {
     "name": "stdout",
     "output_type": "stream",
     "text": [
      "Trials sync offset: 2.7647\n",
      "NWB file saved at out_example_openephys.nwb!\n"
     ]
    }
   ],
   "source": [
    "# Source data\n",
    "base_path = Path('/home/luiz/storage/taufferconsulting/client_ben/project_movshon/movshon_data/expo/exampledata/expo_openephys/m666l3#7')\n",
    "\n",
    "oephys_dir = base_path / 'openephys/'\n",
    "expo_file = base_path / 'm666l3#7[ori16].xml'\n",
    "ttl_file = oephys_dir / '100_ADC1.continuous'\n",
    "\n",
    "source_data = dict(\n",
    "    OpenEphysRecordingExtractorInterface=dict(\n",
    "        folder_path=str(oephys_dir),\n",
    "        stub_test=False   # Set to True for a quick test with partial data\n",
    "    ),\n",
    "    ExpoDataInterface=dict(\n",
    "        expo_file=str(expo_file),\n",
    "        ttl_file=str(ttl_file)\n",
    "    )\n",
    ")\n",
    "\n",
    "# Initialize converter\n",
    "converter = MovshonOpenEphysNWBConverter(source_data=source_data)\n",
    "\n",
    "# Get metadata from source data\n",
    "metadata = converter.get_metadata()\n",
    "\n",
    "# User-input metadata\n",
    "metadata['NWBFile']['session_description'] = 'example conversion'\n",
    "\n",
    "# Conversion options\n",
    "conversion_options = converter.get_conversion_options()\n",
    "conversion_options['OpenEphysRecordingExtractorInterface'] = dict(stub_test=True)\n",
    "conversion_options['ExpoDataInterface'] = dict(convert_expo=True)\n",
    "\n",
    "\n",
    "# Validate source, metadata and options\n",
    "converter.validate_source(source_data)\n",
    "converter.validate_metadata(metadata)\n",
    "converter.validate_conversion_options(conversion_options)\n",
    "\n",
    "# Run conversion\n",
    "output_file = 'out_example_openephys.nwb'\n",
    "\n",
    "converter.run_conversion(\n",
    "    metadata=metadata, \n",
    "    nwbfile_path=output_file, \n",
    "    save_to_file=True,\n",
    "    conversion_options=conversion_options\n",
    ")"
   ]
  },
  {
   "cell_type": "markdown",
   "metadata": {
    "scrolled": false
   },
   "source": [
    "## Check NWB file with widgets"
   ]
  },
  {
   "cell_type": "code",
   "execution_count": 4,
   "metadata": {},
   "outputs": [
    {
     "data": {
      "application/vnd.jupyter.widget-view+json": {
       "model_id": "a88cba237d8b4d25995bd1ef5f31d8b5",
       "version_major": 2,
       "version_minor": 0
      },
      "text/plain": [
       "VBox(children=(HBox(children=(Label(value='session_description:', layout=Layout(max_height='40px', max_width='…"
      ]
     },
     "metadata": {},
     "output_type": "display_data"
    },
    {
     "name": "stderr",
     "output_type": "stream",
     "text": [
      "/media/luiz/storage/Github/nwb-jupyter-widgets/nwbwidgets/ecephys.py:37: FutureWarning: arrays to stack must be passed as a \"sequence\" type such as list or tuple. Support for non-sequence iterables such as generators is deprecated as of NumPy 1.16 and will raise an error in the future.\n",
      "  elec_pos = np.hstack(np.arange(count).tolist() for count in counts)\n"
     ]
    }
   ],
   "source": [
    "io = NWBHDF5IO(output_file, 'r')\n",
    "nwbfile = io.read()\n",
    "nwb2widget(nwbfile)"
   ]
  },
  {
   "cell_type": "code",
   "execution_count": null,
   "metadata": {},
   "outputs": [],
   "source": []
  },
  {
   "cell_type": "code",
   "execution_count": null,
   "metadata": {},
   "outputs": [],
   "source": []
  },
  {
   "cell_type": "code",
   "execution_count": null,
   "metadata": {},
   "outputs": [],
   "source": []
  }
 ],
 "metadata": {
  "kernelspec": {
   "display_name": "Python 3.8.5 64-bit ('env_movshon': conda)",
   "language": "python",
   "name": "python38564bitenvmovshonconda86904444310c4a0e8be1c65ba6d14699"
  },
  "language_info": {
   "codemirror_mode": {
    "name": "ipython",
    "version": 3
   },
   "file_extension": ".py",
   "mimetype": "text/x-python",
   "name": "python",
   "nbconvert_exporter": "python",
   "pygments_lexer": "ipython3",
   "version": "3.7.10"
  }
 },
 "nbformat": 4,
 "nbformat_minor": 4
}
